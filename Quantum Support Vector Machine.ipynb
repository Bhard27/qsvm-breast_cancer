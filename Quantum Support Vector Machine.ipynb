{
 "cells": [
  {
   "cell_type": "markdown",
   "metadata": {},
   "source": [
    "# Experimenting with different ansatzes on breast cancer dataset"
   ]
  },
  {
   "cell_type": "code",
   "execution_count": 74,
   "metadata": {},
   "outputs": [],
   "source": [
    "from matplotlib import pyplot as plt\n",
    "import numpy as np\n",
    "from qiskit import Aer, execute\n",
    "from qiskit.aqua import QuantumInstance\n",
    "from qiskit.circuit.library import ZZFeatureMap, PauliFeatureMap, ZFeatureMap\n",
    "from qiskit.aqua.algorithms import QSVM\n",
    "from qiskit.aqua.utils import split_dataset_to_data_and_labels, map_label_to_class_name\n",
    "from qiskit.aqua import MissingOptionalLibraryError\n",
    "from sklearn import datasets\n",
    "from sklearn.model_selection import train_test_split\n",
    "from sklearn.preprocessing import StandardScaler, MinMaxScaler\n",
    "from sklearn.decomposition import PCA\n",
    "import pandas as pd"
   ]
  },
  {
   "cell_type": "markdown",
   "metadata": {},
   "source": [
    "## Dataset Preview"
   ]
  },
  {
   "cell_type": "code",
   "execution_count": 2,
   "metadata": {},
   "outputs": [
    {
     "data": {
      "text/html": [
       "<div>\n",
       "<style scoped>\n",
       "    .dataframe tbody tr th:only-of-type {\n",
       "        vertical-align: middle;\n",
       "    }\n",
       "\n",
       "    .dataframe tbody tr th {\n",
       "        vertical-align: top;\n",
       "    }\n",
       "\n",
       "    .dataframe thead th {\n",
       "        text-align: right;\n",
       "    }\n",
       "</style>\n",
       "<table border=\"1\" class=\"dataframe\">\n",
       "  <thead>\n",
       "    <tr style=\"text-align: right;\">\n",
       "      <th></th>\n",
       "      <th>0</th>\n",
       "      <th>1</th>\n",
       "      <th>2</th>\n",
       "      <th>3</th>\n",
       "      <th>4</th>\n",
       "      <th>5</th>\n",
       "      <th>6</th>\n",
       "      <th>7</th>\n",
       "      <th>8</th>\n",
       "      <th>9</th>\n",
       "      <th>...</th>\n",
       "      <th>20</th>\n",
       "      <th>21</th>\n",
       "      <th>22</th>\n",
       "      <th>23</th>\n",
       "      <th>24</th>\n",
       "      <th>25</th>\n",
       "      <th>26</th>\n",
       "      <th>27</th>\n",
       "      <th>28</th>\n",
       "      <th>29</th>\n",
       "    </tr>\n",
       "  </thead>\n",
       "  <tbody>\n",
       "    <tr>\n",
       "      <th>0</th>\n",
       "      <td>17.99</td>\n",
       "      <td>10.38</td>\n",
       "      <td>122.80</td>\n",
       "      <td>1001.0</td>\n",
       "      <td>0.11840</td>\n",
       "      <td>0.27760</td>\n",
       "      <td>0.30010</td>\n",
       "      <td>0.14710</td>\n",
       "      <td>0.2419</td>\n",
       "      <td>0.07871</td>\n",
       "      <td>...</td>\n",
       "      <td>25.380</td>\n",
       "      <td>17.33</td>\n",
       "      <td>184.60</td>\n",
       "      <td>2019.0</td>\n",
       "      <td>0.16220</td>\n",
       "      <td>0.66560</td>\n",
       "      <td>0.7119</td>\n",
       "      <td>0.2654</td>\n",
       "      <td>0.4601</td>\n",
       "      <td>0.11890</td>\n",
       "    </tr>\n",
       "    <tr>\n",
       "      <th>1</th>\n",
       "      <td>20.57</td>\n",
       "      <td>17.77</td>\n",
       "      <td>132.90</td>\n",
       "      <td>1326.0</td>\n",
       "      <td>0.08474</td>\n",
       "      <td>0.07864</td>\n",
       "      <td>0.08690</td>\n",
       "      <td>0.07017</td>\n",
       "      <td>0.1812</td>\n",
       "      <td>0.05667</td>\n",
       "      <td>...</td>\n",
       "      <td>24.990</td>\n",
       "      <td>23.41</td>\n",
       "      <td>158.80</td>\n",
       "      <td>1956.0</td>\n",
       "      <td>0.12380</td>\n",
       "      <td>0.18660</td>\n",
       "      <td>0.2416</td>\n",
       "      <td>0.1860</td>\n",
       "      <td>0.2750</td>\n",
       "      <td>0.08902</td>\n",
       "    </tr>\n",
       "    <tr>\n",
       "      <th>2</th>\n",
       "      <td>19.69</td>\n",
       "      <td>21.25</td>\n",
       "      <td>130.00</td>\n",
       "      <td>1203.0</td>\n",
       "      <td>0.10960</td>\n",
       "      <td>0.15990</td>\n",
       "      <td>0.19740</td>\n",
       "      <td>0.12790</td>\n",
       "      <td>0.2069</td>\n",
       "      <td>0.05999</td>\n",
       "      <td>...</td>\n",
       "      <td>23.570</td>\n",
       "      <td>25.53</td>\n",
       "      <td>152.50</td>\n",
       "      <td>1709.0</td>\n",
       "      <td>0.14440</td>\n",
       "      <td>0.42450</td>\n",
       "      <td>0.4504</td>\n",
       "      <td>0.2430</td>\n",
       "      <td>0.3613</td>\n",
       "      <td>0.08758</td>\n",
       "    </tr>\n",
       "    <tr>\n",
       "      <th>3</th>\n",
       "      <td>11.42</td>\n",
       "      <td>20.38</td>\n",
       "      <td>77.58</td>\n",
       "      <td>386.1</td>\n",
       "      <td>0.14250</td>\n",
       "      <td>0.28390</td>\n",
       "      <td>0.24140</td>\n",
       "      <td>0.10520</td>\n",
       "      <td>0.2597</td>\n",
       "      <td>0.09744</td>\n",
       "      <td>...</td>\n",
       "      <td>14.910</td>\n",
       "      <td>26.50</td>\n",
       "      <td>98.87</td>\n",
       "      <td>567.7</td>\n",
       "      <td>0.20980</td>\n",
       "      <td>0.86630</td>\n",
       "      <td>0.6869</td>\n",
       "      <td>0.2575</td>\n",
       "      <td>0.6638</td>\n",
       "      <td>0.17300</td>\n",
       "    </tr>\n",
       "    <tr>\n",
       "      <th>4</th>\n",
       "      <td>20.29</td>\n",
       "      <td>14.34</td>\n",
       "      <td>135.10</td>\n",
       "      <td>1297.0</td>\n",
       "      <td>0.10030</td>\n",
       "      <td>0.13280</td>\n",
       "      <td>0.19800</td>\n",
       "      <td>0.10430</td>\n",
       "      <td>0.1809</td>\n",
       "      <td>0.05883</td>\n",
       "      <td>...</td>\n",
       "      <td>22.540</td>\n",
       "      <td>16.67</td>\n",
       "      <td>152.20</td>\n",
       "      <td>1575.0</td>\n",
       "      <td>0.13740</td>\n",
       "      <td>0.20500</td>\n",
       "      <td>0.4000</td>\n",
       "      <td>0.1625</td>\n",
       "      <td>0.2364</td>\n",
       "      <td>0.07678</td>\n",
       "    </tr>\n",
       "    <tr>\n",
       "      <th>...</th>\n",
       "      <td>...</td>\n",
       "      <td>...</td>\n",
       "      <td>...</td>\n",
       "      <td>...</td>\n",
       "      <td>...</td>\n",
       "      <td>...</td>\n",
       "      <td>...</td>\n",
       "      <td>...</td>\n",
       "      <td>...</td>\n",
       "      <td>...</td>\n",
       "      <td>...</td>\n",
       "      <td>...</td>\n",
       "      <td>...</td>\n",
       "      <td>...</td>\n",
       "      <td>...</td>\n",
       "      <td>...</td>\n",
       "      <td>...</td>\n",
       "      <td>...</td>\n",
       "      <td>...</td>\n",
       "      <td>...</td>\n",
       "      <td>...</td>\n",
       "    </tr>\n",
       "    <tr>\n",
       "      <th>564</th>\n",
       "      <td>21.56</td>\n",
       "      <td>22.39</td>\n",
       "      <td>142.00</td>\n",
       "      <td>1479.0</td>\n",
       "      <td>0.11100</td>\n",
       "      <td>0.11590</td>\n",
       "      <td>0.24390</td>\n",
       "      <td>0.13890</td>\n",
       "      <td>0.1726</td>\n",
       "      <td>0.05623</td>\n",
       "      <td>...</td>\n",
       "      <td>25.450</td>\n",
       "      <td>26.40</td>\n",
       "      <td>166.10</td>\n",
       "      <td>2027.0</td>\n",
       "      <td>0.14100</td>\n",
       "      <td>0.21130</td>\n",
       "      <td>0.4107</td>\n",
       "      <td>0.2216</td>\n",
       "      <td>0.2060</td>\n",
       "      <td>0.07115</td>\n",
       "    </tr>\n",
       "    <tr>\n",
       "      <th>565</th>\n",
       "      <td>20.13</td>\n",
       "      <td>28.25</td>\n",
       "      <td>131.20</td>\n",
       "      <td>1261.0</td>\n",
       "      <td>0.09780</td>\n",
       "      <td>0.10340</td>\n",
       "      <td>0.14400</td>\n",
       "      <td>0.09791</td>\n",
       "      <td>0.1752</td>\n",
       "      <td>0.05533</td>\n",
       "      <td>...</td>\n",
       "      <td>23.690</td>\n",
       "      <td>38.25</td>\n",
       "      <td>155.00</td>\n",
       "      <td>1731.0</td>\n",
       "      <td>0.11660</td>\n",
       "      <td>0.19220</td>\n",
       "      <td>0.3215</td>\n",
       "      <td>0.1628</td>\n",
       "      <td>0.2572</td>\n",
       "      <td>0.06637</td>\n",
       "    </tr>\n",
       "    <tr>\n",
       "      <th>566</th>\n",
       "      <td>16.60</td>\n",
       "      <td>28.08</td>\n",
       "      <td>108.30</td>\n",
       "      <td>858.1</td>\n",
       "      <td>0.08455</td>\n",
       "      <td>0.10230</td>\n",
       "      <td>0.09251</td>\n",
       "      <td>0.05302</td>\n",
       "      <td>0.1590</td>\n",
       "      <td>0.05648</td>\n",
       "      <td>...</td>\n",
       "      <td>18.980</td>\n",
       "      <td>34.12</td>\n",
       "      <td>126.70</td>\n",
       "      <td>1124.0</td>\n",
       "      <td>0.11390</td>\n",
       "      <td>0.30940</td>\n",
       "      <td>0.3403</td>\n",
       "      <td>0.1418</td>\n",
       "      <td>0.2218</td>\n",
       "      <td>0.07820</td>\n",
       "    </tr>\n",
       "    <tr>\n",
       "      <th>567</th>\n",
       "      <td>20.60</td>\n",
       "      <td>29.33</td>\n",
       "      <td>140.10</td>\n",
       "      <td>1265.0</td>\n",
       "      <td>0.11780</td>\n",
       "      <td>0.27700</td>\n",
       "      <td>0.35140</td>\n",
       "      <td>0.15200</td>\n",
       "      <td>0.2397</td>\n",
       "      <td>0.07016</td>\n",
       "      <td>...</td>\n",
       "      <td>25.740</td>\n",
       "      <td>39.42</td>\n",
       "      <td>184.60</td>\n",
       "      <td>1821.0</td>\n",
       "      <td>0.16500</td>\n",
       "      <td>0.86810</td>\n",
       "      <td>0.9387</td>\n",
       "      <td>0.2650</td>\n",
       "      <td>0.4087</td>\n",
       "      <td>0.12400</td>\n",
       "    </tr>\n",
       "    <tr>\n",
       "      <th>568</th>\n",
       "      <td>7.76</td>\n",
       "      <td>24.54</td>\n",
       "      <td>47.92</td>\n",
       "      <td>181.0</td>\n",
       "      <td>0.05263</td>\n",
       "      <td>0.04362</td>\n",
       "      <td>0.00000</td>\n",
       "      <td>0.00000</td>\n",
       "      <td>0.1587</td>\n",
       "      <td>0.05884</td>\n",
       "      <td>...</td>\n",
       "      <td>9.456</td>\n",
       "      <td>30.37</td>\n",
       "      <td>59.16</td>\n",
       "      <td>268.6</td>\n",
       "      <td>0.08996</td>\n",
       "      <td>0.06444</td>\n",
       "      <td>0.0000</td>\n",
       "      <td>0.0000</td>\n",
       "      <td>0.2871</td>\n",
       "      <td>0.07039</td>\n",
       "    </tr>\n",
       "  </tbody>\n",
       "</table>\n",
       "<p>569 rows × 30 columns</p>\n",
       "</div>"
      ],
      "text/plain": [
       "        0      1       2       3        4        5        6        7       8   \\\n",
       "0    17.99  10.38  122.80  1001.0  0.11840  0.27760  0.30010  0.14710  0.2419   \n",
       "1    20.57  17.77  132.90  1326.0  0.08474  0.07864  0.08690  0.07017  0.1812   \n",
       "2    19.69  21.25  130.00  1203.0  0.10960  0.15990  0.19740  0.12790  0.2069   \n",
       "3    11.42  20.38   77.58   386.1  0.14250  0.28390  0.24140  0.10520  0.2597   \n",
       "4    20.29  14.34  135.10  1297.0  0.10030  0.13280  0.19800  0.10430  0.1809   \n",
       "..     ...    ...     ...     ...      ...      ...      ...      ...     ...   \n",
       "564  21.56  22.39  142.00  1479.0  0.11100  0.11590  0.24390  0.13890  0.1726   \n",
       "565  20.13  28.25  131.20  1261.0  0.09780  0.10340  0.14400  0.09791  0.1752   \n",
       "566  16.60  28.08  108.30   858.1  0.08455  0.10230  0.09251  0.05302  0.1590   \n",
       "567  20.60  29.33  140.10  1265.0  0.11780  0.27700  0.35140  0.15200  0.2397   \n",
       "568   7.76  24.54   47.92   181.0  0.05263  0.04362  0.00000  0.00000  0.1587   \n",
       "\n",
       "          9   ...      20     21      22      23       24       25      26  \\\n",
       "0    0.07871  ...  25.380  17.33  184.60  2019.0  0.16220  0.66560  0.7119   \n",
       "1    0.05667  ...  24.990  23.41  158.80  1956.0  0.12380  0.18660  0.2416   \n",
       "2    0.05999  ...  23.570  25.53  152.50  1709.0  0.14440  0.42450  0.4504   \n",
       "3    0.09744  ...  14.910  26.50   98.87   567.7  0.20980  0.86630  0.6869   \n",
       "4    0.05883  ...  22.540  16.67  152.20  1575.0  0.13740  0.20500  0.4000   \n",
       "..       ...  ...     ...    ...     ...     ...      ...      ...     ...   \n",
       "564  0.05623  ...  25.450  26.40  166.10  2027.0  0.14100  0.21130  0.4107   \n",
       "565  0.05533  ...  23.690  38.25  155.00  1731.0  0.11660  0.19220  0.3215   \n",
       "566  0.05648  ...  18.980  34.12  126.70  1124.0  0.11390  0.30940  0.3403   \n",
       "567  0.07016  ...  25.740  39.42  184.60  1821.0  0.16500  0.86810  0.9387   \n",
       "568  0.05884  ...   9.456  30.37   59.16   268.6  0.08996  0.06444  0.0000   \n",
       "\n",
       "         27      28       29  \n",
       "0    0.2654  0.4601  0.11890  \n",
       "1    0.1860  0.2750  0.08902  \n",
       "2    0.2430  0.3613  0.08758  \n",
       "3    0.2575  0.6638  0.17300  \n",
       "4    0.1625  0.2364  0.07678  \n",
       "..      ...     ...      ...  \n",
       "564  0.2216  0.2060  0.07115  \n",
       "565  0.1628  0.2572  0.06637  \n",
       "566  0.1418  0.2218  0.07820  \n",
       "567  0.2650  0.4087  0.12400  \n",
       "568  0.0000  0.2871  0.07039  \n",
       "\n",
       "[569 rows x 30 columns]"
      ]
     },
     "execution_count": 2,
     "metadata": {},
     "output_type": "execute_result"
    }
   ],
   "source": [
    "data = datasets.load_breast_cancer()\n",
    "target = data.target\n",
    "data = data.data\n",
    "\n",
    "training_dataset_size = 10\n",
    "testing_dataset_size = 10\n",
    "class_labels = [\"A\", \"B\"]\n",
    "\n",
    "pd.DataFrame(data)"
   ]
  },
  {
   "cell_type": "markdown",
   "metadata": {},
   "source": [
    "## 2 dimensions/qubits"
   ]
  },
  {
   "cell_type": "code",
   "execution_count": 75,
   "metadata": {},
   "outputs": [
    {
     "data": {
      "image/png": "[encoded data removed]",
      "text/plain": [
       "<Figure size 432x288 with 1 Axes>"
      ]
     },
     "metadata": {
      "needs_background": "light"
     },
     "output_type": "display_data"
    }
   ],
   "source": [
    "dim = 2\n",
    "training_dataset_size = 20\n",
    "testing_dataset_size = 10\n",
    "\n",
    "class_labels = [\"A\", \"B\"]\n",
    "sample_train, sample_test, label_train, label_test = train_test_split(data, target, random_state=10)\n",
    "\n",
    "# Standardizing the dataset -- gaussian with unit variance and 0 mean\n",
    "std = StandardScaler()\n",
    "std.fit(sample_train)\n",
    "sample_train = std.transform(sample_train)\n",
    "sample_test = std.transform(sample_test)\n",
    "\n",
    "# Using PCA to reduce no. of dimensions to 2 to match number of qubits\n",
    "pca = PCA(dim)\n",
    "pca.fit(sample_train)\n",
    "sample_train = pca.transform(sample_train)\n",
    "sample_test = pca.transform(sample_test)\n",
    "\n",
    "# Scaling data to range from -1 to 1\n",
    "minmax = MinMaxScaler()\n",
    "minmax = minmax.fit(sample_train)\n",
    "sample_train = minmax.transform(sample_train)\n",
    "sample_test = minmax.transform(sample_test)\n",
    "\n",
    "# Setting dataset size to number of training_dataset_size\n",
    "training_input = {key: (sample_train[label_train == k, :])[:training_dataset_size] for k, key in enumerate(class_labels)}\n",
    "test_input = {key: (sample_test[label_test == k, :])[:testing_dataset_size] for k, key in enumerate(class_labels)}\n",
    "\n",
    "# Plotting data\n",
    "for k in range(0, 2):\n",
    "    plt.scatter(sample_train[label_train == k, 0][:training_dataset_size],\n",
    "                sample_train[label_train == k, 1][:training_dataset_size])\n",
    "\n",
    "plt.title(\"Breast cancer dataset with reduced dimensions\")\n",
    "plt.show()\n",
    "\n",
    "datapoints, class_to_label = split_dataset_to_data_and_labels(test_input)"
   ]
  },
  {
   "cell_type": "markdown",
   "metadata": {},
   "source": [
    "### ZZFeatureMap ansatz"
   ]
  },
  {
   "cell_type": "code",
   "execution_count": 84,
   "metadata": {},
   "outputs": [
    {
     "name": "stdout",
     "output_type": "stream",
     "text": [
      "     ┌───┐┌──────────────┐                                           ┌───┐»\n",
      "q_0: ┤ H ├┤ U1(2.0*x[0]) ├──■─────────────────────────────────────■──┤ H ├»\n",
      "     ├───┤├──────────────┤┌─┴─┐┌───────────────────────────────┐┌─┴─┐├───┤»\n",
      "q_1: ┤ H ├┤ U1(2.0*x[1]) ├┤ X ├┤ U1(2.0*(π - x[0])*(π - x[1])) ├┤ X ├┤ H ├»\n",
      "     └───┘└──────────────┘└───┘└───────────────────────────────┘└───┘└───┘»\n",
      "«     ┌──────────────┐                                           \n",
      "«q_0: ┤ U1(2.0*x[0]) ├──■─────────────────────────────────────■──\n",
      "«     ├──────────────┤┌─┴─┐┌───────────────────────────────┐┌─┴─┐\n",
      "«q_1: ┤ U1(2.0*x[1]) ├┤ X ├┤ U1(2.0*(π - x[0])*(π - x[1])) ├┤ X ├\n",
      "«     └──────────────┘└───┘└───────────────────────────────┘└───┘\n"
     ]
    }
   ],
   "source": [
    "backend = Aer.get_backend('qasm_simulator')\n",
    "feature_map = ZZFeatureMap(dim, reps=2)\n",
    "print(feature_map)"
   ]
  },
  {
   "cell_type": "code",
   "execution_count": 85,
   "metadata": {},
   "outputs": [],
   "source": [
    "svm = QSVM(feature_map, training_input, test_input, None)\n",
    "quantum_instance = QuantumInstance(backend, shots=10000)\n",
    "result = svm.run(quantum_instance)"
   ]
  },
  {
   "cell_type": "code",
   "execution_count": 86,
   "metadata": {
    "scrolled": true
   },
   "outputs": [
    {
     "name": "stdout",
     "output_type": "stream",
     "text": [
      "Kernel matrix during training\n"
     ]
    },
    {
     "data": {
      "image/png": "[encoded data removed]",
      "text/plain": [
       "<Figure size 432x288 with 1 Axes>"
      ]
     },
     "metadata": {
      "needs_background": "light"
     },
     "output_type": "display_data"
    }
   ],
   "source": [
    "print(\"Kernel matrix during training\")\n",
    "kernel_mat = result['kernel_matrix_training']\n",
    "img = plt.imshow(np.asmatrix(kernel_mat), origin='upper', interpolation='nearest', cmap='bone_r')\n",
    "plt.show()"
   ]
  },
  {
   "cell_type": "code",
   "execution_count": 87,
   "metadata": {},
   "outputs": [
    {
     "name": "stdout",
     "output_type": "stream",
     "text": [
      "Ground truth: [0 0 0 0 0 0 0 0 0 0 1 1 1 1 1 1 1 1 1 1]\n",
      "Prediction: [1 0 0 1 1 0 1 1 0 0 1 1 1 1 1 1 1 1 1 1]\n",
      " RESULTS Testing success ratio:  0.95\n"
     ]
    }
   ],
   "source": [
    "predicted_labels = svm.predict(datapoints[0])\n",
    "predicted_classes = map_label_to_class_name(predicted_labels, svm.label_to_class)\n",
    "print(f\"Ground truth: {datapoints[1]}\")\n",
    "print(f\"Prediction: {predicted_labels}\")\n",
    "print(\" RESULTS Testing success ratio: \", result['testing_accuracy'])"
   ]
  },
  {
   "cell_type": "markdown",
   "metadata": {},
   "source": [
    "### ZFeatureMap ansatz"
   ]
  },
  {
   "cell_type": "code",
   "execution_count": 134,
   "metadata": {},
   "outputs": [
    {
     "name": "stdout",
     "output_type": "stream",
     "text": [
      "     ┌───┐┌──────────────┐┌───┐┌──────────────┐\n",
      "q_0: ┤ H ├┤ U1(2.0*x[0]) ├┤ H ├┤ U1(2.0*x[0]) ├\n",
      "     ├───┤├──────────────┤├───┤├──────────────┤\n",
      "q_1: ┤ H ├┤ U1(2.0*x[1]) ├┤ H ├┤ U1(2.0*x[1]) ├\n",
      "     ├───┤├──────────────┤├───┤├──────────────┤\n",
      "q_2: ┤ H ├┤ U1(2.0*x[2]) ├┤ H ├┤ U1(2.0*x[2]) ├\n",
      "     ├───┤├──────────────┤├───┤├──────────────┤\n",
      "q_3: ┤ H ├┤ U1(2.0*x[3]) ├┤ H ├┤ U1(2.0*x[3]) ├\n",
      "     └───┘└──────────────┘└───┘└──────────────┘\n"
     ]
    }
   ],
   "source": [
    "backend = Aer.get_backend('qasm_simulator')\n",
    "feature_map = ZFeatureMap(dim, reps=2)\n",
    "print(feature_map)"
   ]
  },
  {
   "cell_type": "code",
   "execution_count": 135,
   "metadata": {},
   "outputs": [],
   "source": [
    "svm = QSVM(feature_map, training_input, test_input, None)\n",
    "quantum_instance = QuantumInstance(backend, shots=10000)\n",
    "result = svm.run(quantum_instance)"
   ]
  },
  {
   "cell_type": "code",
   "execution_count": 136,
   "metadata": {
    "scrolled": true
   },
   "outputs": [
    {
     "name": "stdout",
     "output_type": "stream",
     "text": [
      "Kernel matrix during training\n"
     ]
    },
    {
     "data": {
      "image/png": "[encoded data removed]",
      "text/plain": [
       "<Figure size 432x288 with 1 Axes>"
      ]
     },
     "metadata": {
      "needs_background": "light"
     },
     "output_type": "display_data"
    }
   ],
   "source": [
    "print(\"Kernel matrix during training\")\n",
    "kernel_mat = result['kernel_matrix_training']\n",
    "img = plt.imshow(np.asmatrix(kernel_mat), origin='upper', interpolation='nearest', cmap='bone_r')\n",
    "plt.show()"
   ]
  },
  {
   "cell_type": "code",
   "execution_count": 137,
   "metadata": {},
   "outputs": [
    {
     "name": "stdout",
     "output_type": "stream",
     "text": [
      "Ground truth: [0 0 0 0 0 0 0 0 0 0 1 1 1 1 1 1 1 1 1 1]\n",
      "Prediction: [1 0 0 0 0 0 0 0 0 0 1 1 1 1 1 1 1 1 1 1]\n",
      "RESULTS Testing success ratio:  0.9\n"
     ]
    }
   ],
   "source": [
    "predicted_labels = svm.predict(datapoints[0])\n",
    "predicted_classes = map_label_to_class_name(predicted_labels, svm.label_to_class)\n",
    "print(f\"Ground truth: {datapoints[1]}\")\n",
    "print(f\"Prediction: {predicted_labels}\")\n",
    "print(\"RESULTS Testing success ratio: \", result['testing_accuracy'])"
   ]
  },
  {
   "cell_type": "markdown",
   "metadata": {},
   "source": [
    "### PauliFeatureMap ansatz"
   ]
  },
  {
   "cell_type": "code",
   "execution_count": 104,
   "metadata": {},
   "outputs": [
    {
     "name": "stdout",
     "output_type": "stream",
     "text": [
      "     ┌───┐┌──────────────┐                                           ┌───┐»\n",
      "q_0: ┤ H ├┤ U1(2.0*x[0]) ├──■─────────────────────────────────────■──┤ H ├»\n",
      "     ├───┤├──────────────┤┌─┴─┐┌───────────────────────────────┐┌─┴─┐├───┤»\n",
      "q_1: ┤ H ├┤ U1(2.0*x[1]) ├┤ X ├┤ U1(2.0*(π - x[0])*(π - x[1])) ├┤ X ├┤ H ├»\n",
      "     └───┘└──────────────┘└───┘└───────────────────────────────┘└───┘└───┘»\n",
      "«     ┌──────────────┐                                           \n",
      "«q_0: ┤ U1(2.0*x[0]) ├──■─────────────────────────────────────■──\n",
      "«     ├──────────────┤┌─┴─┐┌───────────────────────────────┐┌─┴─┐\n",
      "«q_1: ┤ U1(2.0*x[1]) ├┤ X ├┤ U1(2.0*(π - x[0])*(π - x[1])) ├┤ X ├\n",
      "«     └──────────────┘└───┘└───────────────────────────────┘└───┘\n"
     ]
    }
   ],
   "source": [
    "backend = Aer.get_backend('qasm_simulator')\n",
    "feature_map = PauliFeatureMap(dim, reps=2)\n",
    "print(feature_map)"
   ]
  },
  {
   "cell_type": "code",
   "execution_count": 105,
   "metadata": {},
   "outputs": [],
   "source": [
    "svm = QSVM(feature_map, training_input, test_input, None)\n",
    "quantum_instance = QuantumInstance(backend, shots=10000)\n",
    "result = svm.run(quantum_instance)"
   ]
  },
  {
   "cell_type": "code",
   "execution_count": 106,
   "metadata": {
    "scrolled": true
   },
   "outputs": [
    {
     "name": "stdout",
     "output_type": "stream",
     "text": [
      "Kernel matrix during training\n"
     ]
    },
    {
     "data": {
      "image/png": "[encoded data removed]",
      "text/plain": [
       "<Figure size 432x288 with 1 Axes>"
      ]
     },
     "metadata": {
      "needs_background": "light"
     },
     "output_type": "display_data"
    }
   ],
   "source": [
    "print(\"Kernel matrix during training\")\n",
    "kernel_mat = result['kernel_matrix_training']\n",
    "img = plt.imshow(np.asmatrix(kernel_mat), origin='upper', interpolation='nearest', cmap='bone_r')\n",
    "plt.show()"
   ]
  },
  {
   "cell_type": "code",
   "execution_count": 107,
   "metadata": {},
   "outputs": [
    {
     "name": "stdout",
     "output_type": "stream",
     "text": [
      "Ground truth: [0 0 0 0 0 0 0 0 0 0 1 1 1 1 1 1 1 1 1 1]\n",
      "Prediction: [0 0 0 1 1 0 0 0 1 0 1 1 1 1 1 1 1 1 0 1]\n",
      "RESULTS Testing success ratio:  0.8\n"
     ]
    }
   ],
   "source": [
    "predicted_labels = svm.predict(datapoints[0])\n",
    "predicted_classes = map_label_to_class_name(predicted_labels, svm.label_to_class)\n",
    "print(f\"Ground truth: {datapoints[1]}\")\n",
    "print(f\"Prediction: {predicted_labels}\")\n",
    "print(\"RESULTS Testing success ratio: \", result['testing_accuracy'])"
   ]
  },
  {
   "cell_type": "markdown",
   "metadata": {},
   "source": [
    "## 3 dimensions/qubits "
   ]
  },
  {
   "cell_type": "code",
   "execution_count": 108,
   "metadata": {},
   "outputs": [
    {
     "data": {
      "image/png": "[encoded data removed]",
      "text/plain": [
       "<Figure size 432x288 with 1 Axes>"
      ]
     },
     "metadata": {
      "needs_background": "light"
     },
     "output_type": "display_data"
    }
   ],
   "source": [
    "dim = 3\n",
    "training_dataset_size = 20\n",
    "testing_dataset_size = 10\n",
    "\n",
    "class_labels = [\"A\", \"B\"]\n",
    "sample_train, sample_test, label_train, label_test = train_test_split(data, target, random_state=10)\n",
    "\n",
    "# Standardizing the dataset -- gaussian with unit variance and 0 mean\n",
    "std = StandardScaler()\n",
    "std.fit(sample_train)\n",
    "sample_train = std.transform(sample_train)\n",
    "sample_test = std.transform(sample_test)\n",
    "\n",
    "# Using PCA to reduce no. of dimensions to 2 to match number of qubits\n",
    "pca = PCA(dim)\n",
    "pca.fit(sample_train)\n",
    "sample_train = pca.transform(sample_train)\n",
    "sample_test = pca.transform(sample_test)\n",
    "\n",
    "# Scaling data to range from -1 to 1\n",
    "minmax = MinMaxScaler()\n",
    "minmax = minmax.fit(sample_train)\n",
    "sample_train = minmax.transform(sample_train)\n",
    "sample_test = minmax.transform(sample_test)\n",
    "\n",
    "# Setting dataset size to number of training_dataset_size\n",
    "training_input = {key: (sample_train[label_train == k, :])[:training_dataset_size] for k, key in enumerate(class_labels)}\n",
    "test_input = {key: (sample_test[label_test == k, :])[:testing_dataset_size] for k, key in enumerate(class_labels)}\n",
    "\n",
    "# Plotting data\n",
    "for k in range(0, 2):\n",
    "    plt.scatter(sample_train[label_train == k, 0][:training_dataset_size],\n",
    "                sample_train[label_train == k, 1][:training_dataset_size])\n",
    "\n",
    "plt.title(\"Breast cancer dataset with reduced dimensions\")\n",
    "plt.show()\n",
    "\n",
    "datapoints, class_to_label = split_dataset_to_data_and_labels(test_input)"
   ]
  },
  {
   "cell_type": "markdown",
   "metadata": {},
   "source": [
    "### ZZFeatureMap ansatz"
   ]
  },
  {
   "cell_type": "code",
   "execution_count": 109,
   "metadata": {},
   "outputs": [
    {
     "name": "stdout",
     "output_type": "stream",
     "text": [
      "     ┌───┐┌──────────────┐                                                »\n",
      "q_0: ┤ H ├┤ U1(2.0*x[0]) ├──■─────────────────────────────────────■────■──»\n",
      "     ├───┤├──────────────┤┌─┴─┐┌───────────────────────────────┐┌─┴─┐  │  »\n",
      "q_1: ┤ H ├┤ U1(2.0*x[1]) ├┤ X ├┤ U1(2.0*(π - x[0])*(π - x[1])) ├┤ X ├──┼──»\n",
      "     ├───┤├──────────────┤└───┘└───────────────────────────────┘└───┘┌─┴─┐»\n",
      "q_2: ┤ H ├┤ U1(2.0*x[2]) ├───────────────────────────────────────────┤ X ├»\n",
      "     └───┘└──────────────┘                                           └───┘»\n",
      "«                                           ┌───┐»\n",
      "«q_0: ───────────────────────────────────■──┤ H ├»\n",
      "«                                        │  └───┘»\n",
      "«q_1: ───────────────────────────────────┼────■──»\n",
      "«     ┌───────────────────────────────┐┌─┴─┐┌─┴─┐»\n",
      "«q_2: ┤ U1(2.0*(π - x[0])*(π - x[2])) ├┤ X ├┤ X ├»\n",
      "«     └───────────────────────────────┘└───┘└───┘»\n",
      "«              ┌──────────────┐                                       »\n",
      "«q_0: ─────────┤ U1(2.0*x[0]) ├────────────────────────────────────■──»\n",
      "«              └──────────────┘             ┌───┐┌──────────────┐┌─┴─┐»\n",
      "«q_1: ───────────────────────────────────■──┤ H ├┤ U1(2.0*x[1]) ├┤ X ├»\n",
      "«     ┌───────────────────────────────┐┌─┴─┐├───┤├──────────────┤└───┘»\n",
      "«q_2: ┤ U1(2.0*(π - x[1])*(π - x[2])) ├┤ X ├┤ H ├┤ U1(2.0*x[2]) ├─────»\n",
      "«     └───────────────────────────────┘└───┘└───┘└──────────────┘     »\n",
      "«                                                »\n",
      "«q_0: ───────────────────────────────────■────■──»\n",
      "«     ┌───────────────────────────────┐┌─┴─┐  │  »\n",
      "«q_1: ┤ U1(2.0*(π - x[0])*(π - x[1])) ├┤ X ├──┼──»\n",
      "«     └───────────────────────────────┘└───┘┌─┴─┐»\n",
      "«q_2: ──────────────────────────────────────┤ X ├»\n",
      "«                                           └───┘»\n",
      "«                                                »\n",
      "«q_0: ───────────────────────────────────■───────»\n",
      "«                                        │       »\n",
      "«q_1: ───────────────────────────────────┼────■──»\n",
      "«     ┌───────────────────────────────┐┌─┴─┐┌─┴─┐»\n",
      "«q_2: ┤ U1(2.0*(π - x[0])*(π - x[2])) ├┤ X ├┤ X ├»\n",
      "«     └───────────────────────────────┘└───┘└───┘»\n",
      "«                                           \n",
      "«q_0: ──────────────────────────────────────\n",
      "«                                           \n",
      "«q_1: ───────────────────────────────────■──\n",
      "«     ┌───────────────────────────────┐┌─┴─┐\n",
      "«q_2: ┤ U1(2.0*(π - x[1])*(π - x[2])) ├┤ X ├\n",
      "«     └───────────────────────────────┘└───┘\n"
     ]
    }
   ],
   "source": [
    "backend = Aer.get_backend('qasm_simulator')\n",
    "feature_map = ZZFeatureMap(dim, reps=2)\n",
    "print(feature_map)"
   ]
  },
  {
   "cell_type": "code",
   "execution_count": 110,
   "metadata": {},
   "outputs": [],
   "source": [
    "svm = QSVM(feature_map, training_input, test_input, None)\n",
    "quantum_instance = QuantumInstance(backend, shots=10000)\n",
    "result = svm.run(quantum_instance)"
   ]
  },
  {
   "cell_type": "code",
   "execution_count": 111,
   "metadata": {
    "scrolled": true
   },
   "outputs": [
    {
     "name": "stdout",
     "output_type": "stream",
     "text": [
      "Kernel matrix during training\n"
     ]
    },
    {
     "data": {
      "image/png": "[encoded data removed]",
      "text/plain": [
       "<Figure size 432x288 with 1 Axes>"
      ]
     },
     "metadata": {
      "needs_background": "light"
     },
     "output_type": "display_data"
    }
   ],
   "source": [
    "print(\"Kernel matrix during training\")\n",
    "kernel_mat = result['kernel_matrix_training']\n",
    "img = plt.imshow(np.asmatrix(kernel_mat), origin='upper', interpolation='nearest', cmap='bone_r')\n",
    "plt.show()"
   ]
  },
  {
   "cell_type": "code",
   "execution_count": 112,
   "metadata": {},
   "outputs": [
    {
     "name": "stdout",
     "output_type": "stream",
     "text": [
      "Ground truth: [0 0 0 0 0 0 0 0 0 0 1 1 1 1 1 1 1 1 1 1]\n",
      "Prediction: [0 0 0 0 1 0 0 0 0 0 1 1 1 0 1 1 1 1 1 1]\n",
      " RESULTS Testing success ratio:  0.9\n"
     ]
    }
   ],
   "source": [
    "predicted_labels = svm.predict(datapoints[0])\n",
    "predicted_classes = map_label_to_class_name(predicted_labels, svm.label_to_class)\n",
    "print(f\"Ground truth: {datapoints[1]}\")\n",
    "print(f\"Prediction: {predicted_labels}\")\n",
    "print(\" RESULTS Testing success ratio: \", result['testing_accuracy'])"
   ]
  },
  {
   "cell_type": "markdown",
   "metadata": {},
   "source": [
    "### ZFeatureMap ansatz"
   ]
  },
  {
   "cell_type": "code",
   "execution_count": 113,
   "metadata": {
    "scrolled": true
   },
   "outputs": [
    {
     "name": "stdout",
     "output_type": "stream",
     "text": [
      "     ┌───┐┌──────────────┐┌───┐┌──────────────┐\n",
      "q_0: ┤ H ├┤ U1(2.0*x[0]) ├┤ H ├┤ U1(2.0*x[0]) ├\n",
      "     ├───┤├──────────────┤├───┤├──────────────┤\n",
      "q_1: ┤ H ├┤ U1(2.0*x[1]) ├┤ H ├┤ U1(2.0*x[1]) ├\n",
      "     ├───┤├──────────────┤├───┤├──────────────┤\n",
      "q_2: ┤ H ├┤ U1(2.0*x[2]) ├┤ H ├┤ U1(2.0*x[2]) ├\n",
      "     └───┘└──────────────┘└───┘└──────────────┘\n"
     ]
    }
   ],
   "source": [
    "backend = Aer.get_backend('qasm_simulator')\n",
    "feature_map = ZFeatureMap(dim, reps=2)\n",
    "print(feature_map)"
   ]
  },
  {
   "cell_type": "code",
   "execution_count": 114,
   "metadata": {},
   "outputs": [],
   "source": [
    "svm = QSVM(feature_map, training_input, test_input, None)\n",
    "quantum_instance = QuantumInstance(backend, shots=10000)\n",
    "result = svm.run(quantum_instance)"
   ]
  },
  {
   "cell_type": "code",
   "execution_count": 115,
   "metadata": {
    "scrolled": false
   },
   "outputs": [
    {
     "name": "stdout",
     "output_type": "stream",
     "text": [
      "Kernel matrix during training\n"
     ]
    },
    {
     "data": {
      "image/png": "[encoded data removed]",
      "text/plain": [
       "<Figure size 432x288 with 1 Axes>"
      ]
     },
     "metadata": {
      "needs_background": "light"
     },
     "output_type": "display_data"
    }
   ],
   "source": [
    "print(\"Kernel matrix during training\")\n",
    "kernel_mat = result['kernel_matrix_training']\n",
    "img = plt.imshow(np.asmatrix(kernel_mat), origin='upper', interpolation='nearest', cmap='bone_r')\n",
    "plt.show()"
   ]
  },
  {
   "cell_type": "code",
   "execution_count": 116,
   "metadata": {},
   "outputs": [
    {
     "name": "stdout",
     "output_type": "stream",
     "text": [
      "Ground truth: [0 0 0 0 0 0 0 0 0 0 1 1 1 1 1 1 1 1 1 1]\n",
      "Prediction: [0 0 0 1 1 0 0 0 0 0 1 1 1 1 1 0 1 1 1 1]\n",
      "RESULTS Testing success ratio:  0.9\n"
     ]
    }
   ],
   "source": [
    "predicted_labels = svm.predict(datapoints[0])\n",
    "predicted_classes = map_label_to_class_name(predicted_labels, svm.label_to_class)\n",
    "print(f\"Ground truth: {datapoints[1]}\")\n",
    "print(f\"Prediction: {predicted_labels}\")\n",
    "print(\"RESULTS Testing success ratio: \", result['testing_accuracy'])"
   ]
  },
  {
   "cell_type": "markdown",
   "metadata": {},
   "source": [
    "### PauliFeatureMap ansatz"
   ]
  },
  {
   "cell_type": "code",
   "execution_count": 117,
   "metadata": {},
   "outputs": [
    {
     "name": "stdout",
     "output_type": "stream",
     "text": [
      "     ┌───┐┌──────────────┐                                                »\n",
      "q_0: ┤ H ├┤ U1(2.0*x[0]) ├──■─────────────────────────────────────■────■──»\n",
      "     ├───┤├──────────────┤┌─┴─┐┌───────────────────────────────┐┌─┴─┐  │  »\n",
      "q_1: ┤ H ├┤ U1(2.0*x[1]) ├┤ X ├┤ U1(2.0*(π - x[0])*(π - x[1])) ├┤ X ├──┼──»\n",
      "     ├───┤├──────────────┤└───┘└───────────────────────────────┘└───┘┌─┴─┐»\n",
      "q_2: ┤ H ├┤ U1(2.0*x[2]) ├───────────────────────────────────────────┤ X ├»\n",
      "     └───┘└──────────────┘                                           └───┘»\n",
      "«                                           ┌───┐»\n",
      "«q_0: ───────────────────────────────────■──┤ H ├»\n",
      "«                                        │  └───┘»\n",
      "«q_1: ───────────────────────────────────┼────■──»\n",
      "«     ┌───────────────────────────────┐┌─┴─┐┌─┴─┐»\n",
      "«q_2: ┤ U1(2.0*(π - x[0])*(π - x[2])) ├┤ X ├┤ X ├»\n",
      "«     └───────────────────────────────┘└───┘└───┘»\n",
      "«              ┌──────────────┐                                       »\n",
      "«q_0: ─────────┤ U1(2.0*x[0]) ├────────────────────────────────────■──»\n",
      "«              └──────────────┘             ┌───┐┌──────────────┐┌─┴─┐»\n",
      "«q_1: ───────────────────────────────────■──┤ H ├┤ U1(2.0*x[1]) ├┤ X ├»\n",
      "«     ┌───────────────────────────────┐┌─┴─┐├───┤├──────────────┤└───┘»\n",
      "«q_2: ┤ U1(2.0*(π - x[1])*(π - x[2])) ├┤ X ├┤ H ├┤ U1(2.0*x[2]) ├─────»\n",
      "«     └───────────────────────────────┘└───┘└───┘└──────────────┘     »\n",
      "«                                                »\n",
      "«q_0: ───────────────────────────────────■────■──»\n",
      "«     ┌───────────────────────────────┐┌─┴─┐  │  »\n",
      "«q_1: ┤ U1(2.0*(π - x[0])*(π - x[1])) ├┤ X ├──┼──»\n",
      "«     └───────────────────────────────┘└───┘┌─┴─┐»\n",
      "«q_2: ──────────────────────────────────────┤ X ├»\n",
      "«                                           └───┘»\n",
      "«                                                »\n",
      "«q_0: ───────────────────────────────────■───────»\n",
      "«                                        │       »\n",
      "«q_1: ───────────────────────────────────┼────■──»\n",
      "«     ┌───────────────────────────────┐┌─┴─┐┌─┴─┐»\n",
      "«q_2: ┤ U1(2.0*(π - x[0])*(π - x[2])) ├┤ X ├┤ X ├»\n",
      "«     └───────────────────────────────┘└───┘└───┘»\n",
      "«                                           \n",
      "«q_0: ──────────────────────────────────────\n",
      "«                                           \n",
      "«q_1: ───────────────────────────────────■──\n",
      "«     ┌───────────────────────────────┐┌─┴─┐\n",
      "«q_2: ┤ U1(2.0*(π - x[1])*(π - x[2])) ├┤ X ├\n",
      "«     └───────────────────────────────┘└───┘\n"
     ]
    }
   ],
   "source": [
    "backend = Aer.get_backend('qasm_simulator')\n",
    "feature_map = PauliFeatureMap(dim, reps=2)\n",
    "print(feature_map)"
   ]
  },
  {
   "cell_type": "code",
   "execution_count": 118,
   "metadata": {},
   "outputs": [],
   "source": [
    "svm = QSVM(feature_map, training_input, test_input, None)\n",
    "quantum_instance = QuantumInstance(backend, shots=10000)\n",
    "result = svm.run(quantum_instance)"
   ]
  },
  {
   "cell_type": "code",
   "execution_count": 119,
   "metadata": {
    "scrolled": true
   },
   "outputs": [
    {
     "name": "stdout",
     "output_type": "stream",
     "text": [
      "Kernel matrix during training\n"
     ]
    },
    {
     "data": {
      "image/png": "[encoded data removed]",
      "text/plain": [
       "<Figure size 432x288 with 1 Axes>"
      ]
     },
     "metadata": {
      "needs_background": "light"
     },
     "output_type": "display_data"
    }
   ],
   "source": [
    "print(\"Kernel matrix during training\")\n",
    "kernel_mat = result['kernel_matrix_training']\n",
    "img = plt.imshow(np.asmatrix(kernel_mat), origin='upper', interpolation='nearest', cmap='bone_r')\n",
    "plt.show()"
   ]
  },
  {
   "cell_type": "code",
   "execution_count": 120,
   "metadata": {},
   "outputs": [
    {
     "name": "stdout",
     "output_type": "stream",
     "text": [
      "Ground truth: [0 0 0 0 0 0 0 0 0 0 1 1 1 1 1 1 1 1 1 1]\n",
      "Prediction: [0 0 0 0 1 0 0 0 0 0 1 1 1 0 1 0 1 1 1 1]\n",
      "RESULTS Testing success ratio:  0.9\n"
     ]
    }
   ],
   "source": [
    "predicted_labels = svm.predict(datapoints[0])\n",
    "predicted_classes = map_label_to_class_name(predicted_labels, svm.label_to_class)\n",
    "print(f\"Ground truth: {datapoints[1]}\")\n",
    "print(f\"Prediction: {predicted_labels}\")\n",
    "print(\"RESULTS Testing success ratio: \", result['testing_accuracy'])"
   ]
  },
  {
   "cell_type": "markdown",
   "metadata": {},
   "source": [
    "## 4 dimensions/qubits "
   ]
  },
  {
   "cell_type": "code",
   "execution_count": 121,
   "metadata": {},
   "outputs": [
    {
     "data": {
      "image/png": "[encoded data removed]",
      "text/plain": [
       "<Figure size 432x288 with 1 Axes>"
      ]
     },
     "metadata": {
      "needs_background": "light"
     },
     "output_type": "display_data"
    }
   ],
   "source": [
    "dim = 4\n",
    "training_dataset_size = 20\n",
    "testing_dataset_size = 10\n",
    "\n",
    "class_labels = [\"A\", \"B\"]\n",
    "sample_train, sample_test, label_train, label_test = train_test_split(data, target, random_state=10)\n",
    "\n",
    "# Standardizing the dataset -- gaussian with unit variance and 0 mean\n",
    "std = StandardScaler()\n",
    "std.fit(sample_train)\n",
    "sample_train = std.transform(sample_train)\n",
    "sample_test = std.transform(sample_test)\n",
    "\n",
    "# Using PCA to reduce no. of dimensions to 2 to match number of qubits\n",
    "pca = PCA(dim)\n",
    "pca.fit(sample_train)\n",
    "sample_train = pca.transform(sample_train)\n",
    "sample_test = pca.transform(sample_test)\n",
    "\n",
    "# Scaling data to range from -1 to 1\n",
    "minmax = MinMaxScaler()\n",
    "minmax = minmax.fit(sample_train)\n",
    "sample_train = minmax.transform(sample_train)\n",
    "sample_test = minmax.transform(sample_test)\n",
    "\n",
    "# Setting dataset size to number of training_dataset_size\n",
    "training_input = {key: (sample_train[label_train == k, :])[:training_dataset_size] for k, key in enumerate(class_labels)}\n",
    "test_input = {key: (sample_test[label_test == k, :])[:testing_dataset_size] for k, key in enumerate(class_labels)}\n",
    "\n",
    "# Plotting data\n",
    "for k in range(0, 2):\n",
    "    plt.scatter(sample_train[label_train == k, 0][:training_dataset_size],\n",
    "                sample_train[label_train == k, 1][:training_dataset_size])\n",
    "\n",
    "plt.title(\"Breast cancer dataset with reduced dimensions\")\n",
    "plt.show()\n",
    "\n",
    "datapoints, class_to_label = split_dataset_to_data_and_labels(test_input)"
   ]
  },
  {
   "cell_type": "markdown",
   "metadata": {},
   "source": [
    "### ZZFeatureMap ansatz"
   ]
  },
  {
   "cell_type": "code",
   "execution_count": 122,
   "metadata": {},
   "outputs": [
    {
     "name": "stdout",
     "output_type": "stream",
     "text": [
      "     ┌───┐┌──────────────┐                                                »\n",
      "q_0: ┤ H ├┤ U1(2.0*x[0]) ├──■─────────────────────────────────────■────■──»\n",
      "     ├───┤├──────────────┤┌─┴─┐┌───────────────────────────────┐┌─┴─┐  │  »\n",
      "q_1: ┤ H ├┤ U1(2.0*x[1]) ├┤ X ├┤ U1(2.0*(π - x[0])*(π - x[1])) ├┤ X ├──┼──»\n",
      "     ├───┤├──────────────┤└───┘└───────────────────────────────┘└───┘┌─┴─┐»\n",
      "q_2: ┤ H ├┤ U1(2.0*x[2]) ├───────────────────────────────────────────┤ X ├»\n",
      "     ├───┤├──────────────┤                                           └───┘»\n",
      "q_3: ┤ H ├┤ U1(2.0*x[3]) ├────────────────────────────────────────────────»\n",
      "     └───┘└──────────────┘                                                »\n",
      "«                                                     »\n",
      "«q_0: ───────────────────────────────────■─────────■──»\n",
      "«                                        │         │  »\n",
      "«q_1: ───────────────────────────────────┼────■────┼──»\n",
      "«     ┌───────────────────────────────┐┌─┴─┐┌─┴─┐  │  »\n",
      "«q_2: ┤ U1(2.0*(π - x[0])*(π - x[2])) ├┤ X ├┤ X ├──┼──»\n",
      "«     └───────────────────────────────┘└───┘└───┘┌─┴─┐»\n",
      "«q_3: ───────────────────────────────────────────┤ X ├»\n",
      "«                                                └───┘»\n",
      "«                                                ┌───┐»\n",
      "«q_0: ────────────────────────────────────────■──┤ H ├»\n",
      "«                                             │  └───┘»\n",
      "«q_1: ───────────────────────────────────■────┼────■──»\n",
      "«     ┌───────────────────────────────┐┌─┴─┐  │    │  »\n",
      "«q_2: ┤ U1(2.0*(π - x[1])*(π - x[2])) ├┤ X ├──┼────┼──»\n",
      "«     ├───────────────────────────────┤└───┘┌─┴─┐┌─┴─┐»\n",
      "«q_3: ┤ U1(2.0*(π - x[0])*(π - x[3])) ├─────┤ X ├┤ X ├»\n",
      "«     └───────────────────────────────┘     └───┘└───┘»\n",
      "«              ┌──────────────┐                  »\n",
      "«q_0: ─────────┤ U1(2.0*x[0]) ├──────────────────»\n",
      "«              └──────────────┘             ┌───┐»\n",
      "«q_1: ───────────────────────────────────■──┤ H ├»\n",
      "«                                        │  └───┘»\n",
      "«q_2: ───────────────────────────────────┼────■──»\n",
      "«     ┌───────────────────────────────┐┌─┴─┐┌─┴─┐»\n",
      "«q_3: ┤ U1(2.0*(π - x[1])*(π - x[3])) ├┤ X ├┤ X ├»\n",
      "«     └───────────────────────────────┘└───┘└───┘»\n",
      "«                                                                            »\n",
      "«q_0: ───────────────────────────────────■───────────────────────────────────»\n",
      "«              ┌──────────────┐        ┌─┴─┐┌───────────────────────────────┐»\n",
      "«q_1: ─────────┤ U1(2.0*x[1]) ├────────┤ X ├┤ U1(2.0*(π - x[0])*(π - x[1])) ├»\n",
      "«              └──────────────┘        └───┘└─────────────┬───┬─────────────┘»\n",
      "«q_2: ───────────────────────────────────■────────────────┤ H ├──────────────»\n",
      "«     ┌───────────────────────────────┐┌─┴─┐              ├───┤              »\n",
      "«q_3: ┤ U1(2.0*(π - x[2])*(π - x[3])) ├┤ X ├──────────────┤ H ├──────────────»\n",
      "«     └───────────────────────────────┘└───┘              └───┘              »\n",
      "«                                                                          »\n",
      "«q_0: ───────■──────────■─────────────────────────────────────■─────────■──»\n",
      "«          ┌─┴─┐        │                                     │         │  »\n",
      "«q_1: ─────┤ X ├────────┼─────────────────────────────────────┼────■────┼──»\n",
      "«     ┌────┴───┴─────┐┌─┴─┐┌───────────────────────────────┐┌─┴─┐┌─┴─┐  │  »\n",
      "«q_2: ┤ U1(2.0*x[2]) ├┤ X ├┤ U1(2.0*(π - x[0])*(π - x[2])) ├┤ X ├┤ X ├──┼──»\n",
      "«     ├──────────────┤└───┘└───────────────────────────────┘└───┘└───┘┌─┴─┐»\n",
      "«q_3: ┤ U1(2.0*x[3]) ├────────────────────────────────────────────────┤ X ├»\n",
      "«     └──────────────┘                                                └───┘»\n",
      "«                                                     »\n",
      "«q_0: ────────────────────────────────────────■───────»\n",
      "«                                             │       »\n",
      "«q_1: ───────────────────────────────────■────┼────■──»\n",
      "«     ┌───────────────────────────────┐┌─┴─┐  │    │  »\n",
      "«q_2: ┤ U1(2.0*(π - x[1])*(π - x[2])) ├┤ X ├──┼────┼──»\n",
      "«     ├───────────────────────────────┤└───┘┌─┴─┐┌─┴─┐»\n",
      "«q_3: ┤ U1(2.0*(π - x[0])*(π - x[3])) ├─────┤ X ├┤ X ├»\n",
      "«     └───────────────────────────────┘     └───┘└───┘»\n",
      "«                                                »\n",
      "«q_0: ───────────────────────────────────────────»\n",
      "«                                                »\n",
      "«q_1: ───────────────────────────────────■───────»\n",
      "«                                        │       »\n",
      "«q_2: ───────────────────────────────────┼────■──»\n",
      "«     ┌───────────────────────────────┐┌─┴─┐┌─┴─┐»\n",
      "«q_3: ┤ U1(2.0*(π - x[1])*(π - x[3])) ├┤ X ├┤ X ├»\n",
      "«     └───────────────────────────────┘└───┘└───┘»\n",
      "«                                           \n",
      "«q_0: ──────────────────────────────────────\n",
      "«                                           \n",
      "«q_1: ──────────────────────────────────────\n",
      "«                                           \n",
      "«q_2: ───────────────────────────────────■──\n",
      "«     ┌───────────────────────────────┐┌─┴─┐\n",
      "«q_3: ┤ U1(2.0*(π - x[2])*(π - x[3])) ├┤ X ├\n",
      "«     └───────────────────────────────┘└───┘\n"
     ]
    }
   ],
   "source": [
    "backend = Aer.get_backend('qasm_simulator')\n",
    "feature_map = ZZFeatureMap(dim, reps=2)\n",
    "print(feature_map)"
   ]
  },
  {
   "cell_type": "code",
   "execution_count": 123,
   "metadata": {},
   "outputs": [],
   "source": [
    "svm = QSVM(feature_map, training_input, test_input, None)\n",
    "quantum_instance = QuantumInstance(backend, shots=10000)\n",
    "result = svm.run(quantum_instance)"
   ]
  },
  {
   "cell_type": "code",
   "execution_count": 124,
   "metadata": {
    "scrolled": false
   },
   "outputs": [
    {
     "name": "stdout",
     "output_type": "stream",
     "text": [
      "Kernel matrix during training\n"
     ]
    },
    {
     "data": {
      "image/png": "[encoded data removed]",
      "text/plain": [
       "<Figure size 432x288 with 1 Axes>"
      ]
     },
     "metadata": {
      "needs_background": "light"
     },
     "output_type": "display_data"
    }
   ],
   "source": [
    "print(\"Kernel matrix during training\")\n",
    "kernel_mat = result['kernel_matrix_training']\n",
    "img = plt.imshow(np.asmatrix(kernel_mat), origin='upper', interpolation='nearest', cmap='bone_r')\n",
    "plt.show()"
   ]
  },
  {
   "cell_type": "code",
   "execution_count": 125,
   "metadata": {},
   "outputs": [
    {
     "name": "stdout",
     "output_type": "stream",
     "text": [
      "Ground truth: [0 0 0 0 0 0 0 0 0 0 1 1 1 1 1 1 1 1 1 1]\n",
      "Prediction: [1 0 0 0 0 0 0 0 0 0 1 1 1 1 1 1 1 1 1 1]\n",
      " RESULTS Testing success ratio:  0.95\n"
     ]
    }
   ],
   "source": [
    "predicted_labels = svm.predict(datapoints[0])\n",
    "predicted_classes = map_label_to_class_name(predicted_labels, svm.label_to_class)\n",
    "print(f\"Ground truth: {datapoints[1]}\")\n",
    "print(f\"Prediction: {predicted_labels}\")\n",
    "print(\" RESULTS Testing success ratio: \", result['testing_accuracy'])"
   ]
  },
  {
   "cell_type": "markdown",
   "metadata": {},
   "source": [
    "### ZFeatureMap ansatz"
   ]
  },
  {
   "cell_type": "code",
   "execution_count": 126,
   "metadata": {
    "scrolled": true
   },
   "outputs": [
    {
     "name": "stdout",
     "output_type": "stream",
     "text": [
      "     ┌───┐┌──────────────┐┌───┐┌──────────────┐\n",
      "q_0: ┤ H ├┤ U1(2.0*x[0]) ├┤ H ├┤ U1(2.0*x[0]) ├\n",
      "     ├───┤├──────────────┤├───┤├──────────────┤\n",
      "q_1: ┤ H ├┤ U1(2.0*x[1]) ├┤ H ├┤ U1(2.0*x[1]) ├\n",
      "     ├───┤├──────────────┤├───┤├──────────────┤\n",
      "q_2: ┤ H ├┤ U1(2.0*x[2]) ├┤ H ├┤ U1(2.0*x[2]) ├\n",
      "     ├───┤├──────────────┤├───┤├──────────────┤\n",
      "q_3: ┤ H ├┤ U1(2.0*x[3]) ├┤ H ├┤ U1(2.0*x[3]) ├\n",
      "     └───┘└──────────────┘└───┘└──────────────┘\n"
     ]
    }
   ],
   "source": [
    "backend = Aer.get_backend('qasm_simulator')\n",
    "feature_map = ZFeatureMap(dim, reps=2)\n",
    "print(feature_map)"
   ]
  },
  {
   "cell_type": "code",
   "execution_count": 127,
   "metadata": {},
   "outputs": [],
   "source": [
    "svm = QSVM(feature_map, training_input, test_input, None)\n",
    "quantum_instance = QuantumInstance(backend, shots=10000)\n",
    "result = svm.run(quantum_instance)"
   ]
  },
  {
   "cell_type": "code",
   "execution_count": 128,
   "metadata": {
    "scrolled": false
   },
   "outputs": [
    {
     "name": "stdout",
     "output_type": "stream",
     "text": [
      "Kernel matrix during training\n"
     ]
    },
    {
     "data": {
      "image/png": "[encoded data removed]",
      "text/plain": [
       "<Figure size 432x288 with 1 Axes>"
      ]
     },
     "metadata": {
      "needs_background": "light"
     },
     "output_type": "display_data"
    }
   ],
   "source": [
    "print(\"Kernel matrix during training\")\n",
    "kernel_mat = result['kernel_matrix_training']\n",
    "img = plt.imshow(np.asmatrix(kernel_mat), origin='upper', interpolation='nearest', cmap='bone_r')\n",
    "plt.show()"
   ]
  },
  {
   "cell_type": "code",
   "execution_count": 129,
   "metadata": {},
   "outputs": [
    {
     "name": "stdout",
     "output_type": "stream",
     "text": [
      "Ground truth: [0 0 0 0 0 0 0 0 0 0 1 1 1 1 1 1 1 1 1 1]\n",
      "Prediction: [1 0 0 0 1 0 0 0 0 0 1 1 1 1 1 1 1 1 1 1]\n",
      "RESULTS Testing success ratio:  0.9\n"
     ]
    }
   ],
   "source": [
    "predicted_labels = svm.predict(datapoints[0])\n",
    "predicted_classes = map_label_to_class_name(predicted_labels, svm.label_to_class)\n",
    "print(f\"Ground truth: {datapoints[1]}\")\n",
    "print(f\"Prediction: {predicted_labels}\")\n",
    "print(\"RESULTS Testing success ratio: \", result['testing_accuracy'])"
   ]
  },
  {
   "cell_type": "markdown",
   "metadata": {},
   "source": [
    "### PauliFeatureMap ansatz"
   ]
  },
  {
   "cell_type": "code",
   "execution_count": 130,
   "metadata": {},
   "outputs": [
    {
     "name": "stdout",
     "output_type": "stream",
     "text": [
      "     ┌───┐┌──────────────┐                                                »\n",
      "q_0: ┤ H ├┤ U1(2.0*x[0]) ├──■─────────────────────────────────────■────■──»\n",
      "     ├───┤├──────────────┤┌─┴─┐┌───────────────────────────────┐┌─┴─┐  │  »\n",
      "q_1: ┤ H ├┤ U1(2.0*x[1]) ├┤ X ├┤ U1(2.0*(π - x[0])*(π - x[1])) ├┤ X ├──┼──»\n",
      "     ├───┤├──────────────┤└───┘└───────────────────────────────┘└───┘┌─┴─┐»\n",
      "q_2: ┤ H ├┤ U1(2.0*x[2]) ├───────────────────────────────────────────┤ X ├»\n",
      "     ├───┤├──────────────┤                                           └───┘»\n",
      "q_3: ┤ H ├┤ U1(2.0*x[3]) ├────────────────────────────────────────────────»\n",
      "     └───┘└──────────────┘                                                »\n",
      "«                                                     »\n",
      "«q_0: ───────────────────────────────────■─────────■──»\n",
      "«                                        │         │  »\n",
      "«q_1: ───────────────────────────────────┼────■────┼──»\n",
      "«     ┌───────────────────────────────┐┌─┴─┐┌─┴─┐  │  »\n",
      "«q_2: ┤ U1(2.0*(π - x[0])*(π - x[2])) ├┤ X ├┤ X ├──┼──»\n",
      "«     └───────────────────────────────┘└───┘└───┘┌─┴─┐»\n",
      "«q_3: ───────────────────────────────────────────┤ X ├»\n",
      "«                                                └───┘»\n",
      "«                                                ┌───┐»\n",
      "«q_0: ────────────────────────────────────────■──┤ H ├»\n",
      "«                                             │  └───┘»\n",
      "«q_1: ───────────────────────────────────■────┼────■──»\n",
      "«     ┌───────────────────────────────┐┌─┴─┐  │    │  »\n",
      "«q_2: ┤ U1(2.0*(π - x[1])*(π - x[2])) ├┤ X ├──┼────┼──»\n",
      "«     ├───────────────────────────────┤└───┘┌─┴─┐┌─┴─┐»\n",
      "«q_3: ┤ U1(2.0*(π - x[0])*(π - x[3])) ├─────┤ X ├┤ X ├»\n",
      "«     └───────────────────────────────┘     └───┘└───┘»\n",
      "«              ┌──────────────┐                  »\n",
      "«q_0: ─────────┤ U1(2.0*x[0]) ├──────────────────»\n",
      "«              └──────────────┘             ┌───┐»\n",
      "«q_1: ───────────────────────────────────■──┤ H ├»\n",
      "«                                        │  └───┘»\n",
      "«q_2: ───────────────────────────────────┼────■──»\n",
      "«     ┌───────────────────────────────┐┌─┴─┐┌─┴─┐»\n",
      "«q_3: ┤ U1(2.0*(π - x[1])*(π - x[3])) ├┤ X ├┤ X ├»\n",
      "«     └───────────────────────────────┘└───┘└───┘»\n",
      "«                                                                            »\n",
      "«q_0: ───────────────────────────────────■───────────────────────────────────»\n",
      "«              ┌──────────────┐        ┌─┴─┐┌───────────────────────────────┐»\n",
      "«q_1: ─────────┤ U1(2.0*x[1]) ├────────┤ X ├┤ U1(2.0*(π - x[0])*(π - x[1])) ├»\n",
      "«              └──────────────┘        └───┘└─────────────┬───┬─────────────┘»\n",
      "«q_2: ───────────────────────────────────■────────────────┤ H ├──────────────»\n",
      "«     ┌───────────────────────────────┐┌─┴─┐              ├───┤              »\n",
      "«q_3: ┤ U1(2.0*(π - x[2])*(π - x[3])) ├┤ X ├──────────────┤ H ├──────────────»\n",
      "«     └───────────────────────────────┘└───┘              └───┘              »\n",
      "«                                                                          »\n",
      "«q_0: ───────■──────────■─────────────────────────────────────■─────────■──»\n",
      "«          ┌─┴─┐        │                                     │         │  »\n",
      "«q_1: ─────┤ X ├────────┼─────────────────────────────────────┼────■────┼──»\n",
      "«     ┌────┴───┴─────┐┌─┴─┐┌───────────────────────────────┐┌─┴─┐┌─┴─┐  │  »\n",
      "«q_2: ┤ U1(2.0*x[2]) ├┤ X ├┤ U1(2.0*(π - x[0])*(π - x[2])) ├┤ X ├┤ X ├──┼──»\n",
      "«     ├──────────────┤└───┘└───────────────────────────────┘└───┘└───┘┌─┴─┐»\n",
      "«q_3: ┤ U1(2.0*x[3]) ├────────────────────────────────────────────────┤ X ├»\n",
      "«     └──────────────┘                                                └───┘»\n",
      "«                                                     »\n",
      "«q_0: ────────────────────────────────────────■───────»\n",
      "«                                             │       »\n",
      "«q_1: ───────────────────────────────────■────┼────■──»\n",
      "«     ┌───────────────────────────────┐┌─┴─┐  │    │  »\n",
      "«q_2: ┤ U1(2.0*(π - x[1])*(π - x[2])) ├┤ X ├──┼────┼──»\n",
      "«     ├───────────────────────────────┤└───┘┌─┴─┐┌─┴─┐»\n",
      "«q_3: ┤ U1(2.0*(π - x[0])*(π - x[3])) ├─────┤ X ├┤ X ├»\n",
      "«     └───────────────────────────────┘     └───┘└───┘»\n",
      "«                                                »\n",
      "«q_0: ───────────────────────────────────────────»\n",
      "«                                                »\n",
      "«q_1: ───────────────────────────────────■───────»\n",
      "«                                        │       »\n",
      "«q_2: ───────────────────────────────────┼────■──»\n",
      "«     ┌───────────────────────────────┐┌─┴─┐┌─┴─┐»\n",
      "«q_3: ┤ U1(2.0*(π - x[1])*(π - x[3])) ├┤ X ├┤ X ├»\n",
      "«     └───────────────────────────────┘└───┘└───┘»\n",
      "«                                           \n",
      "«q_0: ──────────────────────────────────────\n",
      "«                                           \n",
      "«q_1: ──────────────────────────────────────\n",
      "«                                           \n",
      "«q_2: ───────────────────────────────────■──\n",
      "«     ┌───────────────────────────────┐┌─┴─┐\n",
      "«q_3: ┤ U1(2.0*(π - x[2])*(π - x[3])) ├┤ X ├\n",
      "«     └───────────────────────────────┘└───┘\n"
     ]
    }
   ],
   "source": [
    "backend = Aer.get_backend('qasm_simulator')\n",
    "feature_map = PauliFeatureMap(dim, reps=2)\n",
    "print(feature_map)"
   ]
  },
  {
   "cell_type": "code",
   "execution_count": 131,
   "metadata": {},
   "outputs": [],
   "source": [
    "svm = QSVM(feature_map, training_input, test_input, None)\n",
    "quantum_instance = QuantumInstance(backend, shots=10000)\n",
    "result = svm.run(quantum_instance)"
   ]
  },
  {
   "cell_type": "code",
   "execution_count": 132,
   "metadata": {
    "scrolled": true
   },
   "outputs": [
    {
     "name": "stdout",
     "output_type": "stream",
     "text": [
      "Kernel matrix during training\n"
     ]
    },
    {
     "data": {
      "image/png": "[encoded data removed]",
      "text/plain": [
       "<Figure size 432x288 with 1 Axes>"
      ]
     },
     "metadata": {
      "needs_background": "light"
     },
     "output_type": "display_data"
    }
   ],
   "source": [
    "print(\"Kernel matrix during training\")\n",
    "kernel_mat = result['kernel_matrix_training']\n",
    "img = plt.imshow(np.asmatrix(kernel_mat), origin='upper', interpolation='nearest', cmap='bone_r')\n",
    "plt.show()"
   ]
  },
  {
   "cell_type": "code",
   "execution_count": 133,
   "metadata": {
    "scrolled": true
   },
   "outputs": [
    {
     "name": "stdout",
     "output_type": "stream",
     "text": [
      "Ground truth: [0 0 0 0 0 0 0 0 0 0 1 1 1 1 1 1 1 1 1 1]\n",
      "Prediction: [1 0 0 0 0 0 0 0 0 0 1 1 1 1 1 1 1 1 1 1]\n",
      "RESULTS Testing success ratio:  0.95\n"
     ]
    }
   ],
   "source": [
    "predicted_labels = svm.predict(datapoints[0])\n",
    "predicted_classes = map_label_to_class_name(predicted_labels, svm.label_to_class)\n",
    "print(f\"Ground truth: {datapoints[1]}\")\n",
    "print(f\"Prediction: {predicted_labels}\")\n",
    "print(\"RESULTS Testing success ratio: \", result['testing_accuracy'])"
   ]
  },
  {
   "cell_type": "markdown",
   "metadata": {},
   "source": [
    "## 5 Dim"
   ]
  },
  {
   "cell_type": "code",
   "execution_count": 138,
   "metadata": {},
   "outputs": [
    {
     "data": {
      "image/png": "[encoded data removed]",
      "text/plain": [
       "<Figure size 432x288 with 1 Axes>"
      ]
     },
     "metadata": {
      "needs_background": "light"
     },
     "output_type": "display_data"
    }
   ],
   "source": [
    "dim = 5\n",
    "training_dataset_size = 20\n",
    "testing_dataset_size = 10\n",
    "\n",
    "class_labels = [\"A\", \"B\"]\n",
    "sample_train, sample_test, label_train, label_test = train_test_split(data, target, random_state=10)\n",
    "\n",
    "# Standardizing the dataset -- gaussian with unit variance and 0 mean\n",
    "std = StandardScaler()\n",
    "std.fit(sample_train)\n",
    "sample_train = std.transform(sample_train)\n",
    "sample_test = std.transform(sample_test)\n",
    "\n",
    "# Using PCA to reduce no. of dimensions to 2 to match number of qubits\n",
    "pca = PCA(dim)\n",
    "pca.fit(sample_train)\n",
    "sample_train = pca.transform(sample_train)\n",
    "sample_test = pca.transform(sample_test)\n",
    "\n",
    "# Scaling data to range from -1 to 1\n",
    "minmax = MinMaxScaler()\n",
    "minmax = minmax.fit(sample_train)\n",
    "sample_train = minmax.transform(sample_train)\n",
    "sample_test = minmax.transform(sample_test)\n",
    "\n",
    "# Setting dataset size to number of training_dataset_size\n",
    "training_input = {key: (sample_train[label_train == k, :])[:training_dataset_size] for k, key in enumerate(class_labels)}\n",
    "test_input = {key: (sample_test[label_test == k, :])[:testing_dataset_size] for k, key in enumerate(class_labels)}\n",
    "\n",
    "# Plotting data\n",
    "for k in range(0, 2):\n",
    "    plt.scatter(sample_train[label_train == k, 0][:training_dataset_size],\n",
    "                sample_train[label_train == k, 1][:training_dataset_size])\n",
    "\n",
    "plt.title(\"Breast cancer dataset with reduced dimensions\")\n",
    "plt.show()\n",
    "\n",
    "datapoints, class_to_label = split_dataset_to_data_and_labels(test_input)"
   ]
  },
  {
   "cell_type": "markdown",
   "metadata": {},
   "source": [
    "### ZZFeatureMap ansatz"
   ]
  },
  {
   "cell_type": "code",
   "execution_count": 139,
   "metadata": {},
   "outputs": [
    {
     "name": "stdout",
     "output_type": "stream",
     "text": [
      "     ┌───┐┌──────────────┐                                                »\n",
      "q_0: ┤ H ├┤ U1(2.0*x[0]) ├──■─────────────────────────────────────■────■──»\n",
      "     ├───┤├──────────────┤┌─┴─┐┌───────────────────────────────┐┌─┴─┐  │  »\n",
      "q_1: ┤ H ├┤ U1(2.0*x[1]) ├┤ X ├┤ U1(2.0*(π - x[0])*(π - x[1])) ├┤ X ├──┼──»\n",
      "     ├───┤├──────────────┤└───┘└───────────────────────────────┘└───┘┌─┴─┐»\n",
      "q_2: ┤ H ├┤ U1(2.0*x[2]) ├───────────────────────────────────────────┤ X ├»\n",
      "     ├───┤├──────────────┤                                           └───┘»\n",
      "q_3: ┤ H ├┤ U1(2.0*x[3]) ├────────────────────────────────────────────────»\n",
      "     ├───┤├──────────────┤                                                »\n",
      "q_4: ┤ H ├┤ U1(2.0*x[4]) ├────────────────────────────────────────────────»\n",
      "     └───┘└──────────────┘                                                »\n",
      "«                                                     »\n",
      "«q_0: ───────────────────────────────────■─────────■──»\n",
      "«                                        │         │  »\n",
      "«q_1: ───────────────────────────────────┼────■────┼──»\n",
      "«     ┌───────────────────────────────┐┌─┴─┐┌─┴─┐  │  »\n",
      "«q_2: ┤ U1(2.0*(π - x[0])*(π - x[2])) ├┤ X ├┤ X ├──┼──»\n",
      "«     └───────────────────────────────┘└───┘└───┘┌─┴─┐»\n",
      "«q_3: ───────────────────────────────────────────┤ X ├»\n",
      "«                                                └───┘»\n",
      "«q_4: ────────────────────────────────────────────────»\n",
      "«                                                     »\n",
      "«                                                          »\n",
      "«q_0: ────────────────────────────────────────■─────────■──»\n",
      "«                                             │         │  »\n",
      "«q_1: ───────────────────────────────────■────┼────■────┼──»\n",
      "«     ┌───────────────────────────────┐┌─┴─┐  │    │    │  »\n",
      "«q_2: ┤ U1(2.0*(π - x[1])*(π - x[2])) ├┤ X ├──┼────┼────┼──»\n",
      "«     ├───────────────────────────────┤└───┘┌─┴─┐┌─┴─┐  │  »\n",
      "«q_3: ┤ U1(2.0*(π - x[0])*(π - x[3])) ├─────┤ X ├┤ X ├──┼──»\n",
      "«     └───────────────────────────────┘     └───┘└───┘┌─┴─┐»\n",
      "«q_4: ────────────────────────────────────────────────┤ X ├»\n",
      "«                                                     └───┘»\n",
      "«                                                ┌───┐┌──────────────┐»\n",
      "«q_0: ────────────────────────────────────────■──┤ H ├┤ U1(2.0*x[0]) ├»\n",
      "«                                             │  └───┘└──────────────┘»\n",
      "«q_1: ───────────────────────────────────■────┼──────────────■────────»\n",
      "«                                        │    │              │        »\n",
      "«q_2: ───────────────────────────────────┼────┼────■─────────┼────────»\n",
      "«     ┌───────────────────────────────┐┌─┴─┐  │  ┌─┴─┐       │        »\n",
      "«q_3: ┤ U1(2.0*(π - x[1])*(π - x[3])) ├┤ X ├──┼──┤ X ├───────┼────────»\n",
      "«     ├───────────────────────────────┤└───┘┌─┴─┐└───┘     ┌─┴─┐      »\n",
      "«q_4: ┤ U1(2.0*(π - x[0])*(π - x[4])) ├─────┤ X ├──────────┤ X ├──────»\n",
      "«     └───────────────────────────────┘     └───┘          └───┘      »\n",
      "«                                                     »\n",
      "«q_0: ────────────────────────────────────────────────»\n",
      "«                                                ┌───┐»\n",
      "«q_1: ────────────────────────────────────────■──┤ H ├»\n",
      "«                                             │  └───┘»\n",
      "«q_2: ───────────────────────────────────■────┼────■──»\n",
      "«     ┌───────────────────────────────┐┌─┴─┐  │    │  »\n",
      "«q_3: ┤ U1(2.0*(π - x[2])*(π - x[3])) ├┤ X ├──┼────┼──»\n",
      "«     ├───────────────────────────────┤└───┘┌─┴─┐┌─┴─┐»\n",
      "«q_4: ┤ U1(2.0*(π - x[1])*(π - x[4])) ├─────┤ X ├┤ X ├»\n",
      "«     └───────────────────────────────┘     └───┘└───┘»\n",
      "«                                                                            »\n",
      "«q_0: ───────────────────────────────────■───────────────────────────────────»\n",
      "«              ┌──────────────┐        ┌─┴─┐┌───────────────────────────────┐»\n",
      "«q_1: ─────────┤ U1(2.0*x[1]) ├────────┤ X ├┤ U1(2.0*(π - x[0])*(π - x[1])) ├»\n",
      "«              └──────────────┘        └───┘└─────────────┬───┬─────────────┘»\n",
      "«q_2: ───────────────────────────────────■────────────────┤ H ├──────────────»\n",
      "«                                        │                └───┘              »\n",
      "«q_3: ───────────────────────────────────┼──────────────────■────────────────»\n",
      "«     ┌───────────────────────────────┐┌─┴─┐              ┌─┴─┐              »\n",
      "«q_4: ┤ U1(2.0*(π - x[2])*(π - x[4])) ├┤ X ├──────────────┤ X ├──────────────»\n",
      "«     └───────────────────────────────┘└───┘              └───┘              »\n",
      "«                                                                            »\n",
      "«q_0: ────────────────■──────────────────■───────────────────────────────────»\n",
      "«                   ┌─┴─┐                │                                   »\n",
      "«q_1: ──────────────┤ X ├────────────────┼───────────────────────────────────»\n",
      "«              ┌────┴───┴─────┐        ┌─┴─┐┌───────────────────────────────┐»\n",
      "«q_2: ─────────┤ U1(2.0*x[2]) ├────────┤ X ├┤ U1(2.0*(π - x[0])*(π - x[2])) ├»\n",
      "«              └──────────────┘        └───┘└─────────────┬───┬─────────────┘»\n",
      "«q_3: ───────────────────────────────────■────────────────┤ H ├──────────────»\n",
      "«     ┌───────────────────────────────┐┌─┴─┐              ├───┤              »\n",
      "«q_4: ┤ U1(2.0*(π - x[3])*(π - x[4])) ├┤ X ├──────────────┤ H ├──────────────»\n",
      "«     └───────────────────────────────┘└───┘              └───┘              »\n",
      "«                                                                          »\n",
      "«q_0: ───────■───────────────■──────────────────────────────────────────■──»\n",
      "«            │               │                                          │  »\n",
      "«q_1: ───────┼──────────■────┼─────────────────────────────────────■────┼──»\n",
      "«          ┌─┴─┐      ┌─┴─┐  │  ┌───────────────────────────────┐┌─┴─┐  │  »\n",
      "«q_2: ─────┤ X ├──────┤ X ├──┼──┤ U1(2.0*(π - x[1])*(π - x[2])) ├┤ X ├──┼──»\n",
      "«     ┌────┴───┴─────┐└───┘┌─┴─┐├───────────────────────────────┤└───┘┌─┴─┐»\n",
      "«q_3: ┤ U1(2.0*x[3]) ├─────┤ X ├┤ U1(2.0*(π - x[0])*(π - x[3])) ├─────┤ X ├»\n",
      "«     ├──────────────┤     └───┘└───────────────────────────────┘     └───┘»\n",
      "«q_4: ┤ U1(2.0*x[4]) ├─────────────────────────────────────────────────────»\n",
      "«     └──────────────┘                                                     »\n",
      "«                                                                    »\n",
      "«q_0: ───────■──────────────────────────────────────────■────────────»\n",
      "«            │                                          │            »\n",
      "«q_1: ──■────┼─────────────────────────────────────■────┼─────────■──»\n",
      "«       │    │                                     │    │         │  »\n",
      "«q_2: ──┼────┼─────────────────────────────────────┼────┼────■────┼──»\n",
      "«     ┌─┴─┐  │  ┌───────────────────────────────┐┌─┴─┐  │  ┌─┴─┐  │  »\n",
      "«q_3: ┤ X ├──┼──┤ U1(2.0*(π - x[1])*(π - x[3])) ├┤ X ├──┼──┤ X ├──┼──»\n",
      "«     └───┘┌─┴─┐├───────────────────────────────┤└───┘┌─┴─┐└───┘┌─┴─┐»\n",
      "«q_4: ─────┤ X ├┤ U1(2.0*(π - x[0])*(π - x[4])) ├─────┤ X ├─────┤ X ├»\n",
      "«          └───┘└───────────────────────────────┘     └───┘     └───┘»\n",
      "«                                                     »\n",
      "«q_0: ────────────────────────────────────────────────»\n",
      "«                                                     »\n",
      "«q_1: ────────────────────────────────────────■───────»\n",
      "«                                             │       »\n",
      "«q_2: ───────────────────────────────────■────┼────■──»\n",
      "«     ┌───────────────────────────────┐┌─┴─┐  │    │  »\n",
      "«q_3: ┤ U1(2.0*(π - x[2])*(π - x[3])) ├┤ X ├──┼────┼──»\n",
      "«     ├───────────────────────────────┤└───┘┌─┴─┐┌─┴─┐»\n",
      "«q_4: ┤ U1(2.0*(π - x[1])*(π - x[4])) ├─────┤ X ├┤ X ├»\n",
      "«     └───────────────────────────────┘     └───┘└───┘»\n",
      "«                                                »\n",
      "«q_0: ───────────────────────────────────────────»\n",
      "«                                                »\n",
      "«q_1: ───────────────────────────────────────────»\n",
      "«                                                »\n",
      "«q_2: ───────────────────────────────────■───────»\n",
      "«                                        │       »\n",
      "«q_3: ───────────────────────────────────┼────■──»\n",
      "«     ┌───────────────────────────────┐┌─┴─┐┌─┴─┐»\n",
      "«q_4: ┤ U1(2.0*(π - x[2])*(π - x[4])) ├┤ X ├┤ X ├»\n",
      "«     └───────────────────────────────┘└───┘└───┘»\n",
      "«                                           \n",
      "«q_0: ──────────────────────────────────────\n",
      "«                                           \n",
      "«q_1: ──────────────────────────────────────\n",
      "«                                           \n",
      "«q_2: ──────────────────────────────────────\n",
      "«                                           \n",
      "«q_3: ───────────────────────────────────■──\n",
      "«     ┌───────────────────────────────┐┌─┴─┐\n",
      "«q_4: ┤ U1(2.0*(π - x[3])*(π - x[4])) ├┤ X ├\n",
      "«     └───────────────────────────────┘└───┘\n"
     ]
    }
   ],
   "source": [
    "backend = Aer.get_backend('qasm_simulator')\n",
    "feature_map = ZZFeatureMap(dim, reps=2)\n",
    "print(feature_map)"
   ]
  },
  {
   "cell_type": "code",
   "execution_count": 140,
   "metadata": {},
   "outputs": [],
   "source": [
    "svm = QSVM(feature_map, training_input, test_input, None)\n",
    "quantum_instance = QuantumInstance(backend, shots=10000)\n",
    "result = svm.run(quantum_instance)"
   ]
  },
  {
   "cell_type": "code",
   "execution_count": 141,
   "metadata": {
    "scrolled": false
   },
   "outputs": [
    {
     "name": "stdout",
     "output_type": "stream",
     "text": [
      "Kernel matrix during training\n"
     ]
    },
    {
     "data": {
      "image/png": "[encoded data removed]",
      "text/plain": [
       "<Figure size 432x288 with 1 Axes>"
      ]
     },
     "metadata": {
      "needs_background": "light"
     },
     "output_type": "display_data"
    }
   ],
   "source": [
    "print(\"Kernel matrix during training\")\n",
    "kernel_mat = result['kernel_matrix_training']\n",
    "img = plt.imshow(np.asmatrix(kernel_mat), origin='upper', interpolation='nearest', cmap='bone_r')\n",
    "plt.show()"
   ]
  },
  {
   "cell_type": "code",
   "execution_count": 142,
   "metadata": {},
   "outputs": [
    {
     "name": "stdout",
     "output_type": "stream",
     "text": [
      "Ground truth: [0 0 0 0 0 0 0 0 0 0 1 1 1 1 1 1 1 1 1 1]\n",
      "Prediction: [1 0 0 0 0 0 0 0 0 0 1 1 1 1 1 1 1 1 1 1]\n",
      " RESULTS Testing success ratio:  0.95\n"
     ]
    }
   ],
   "source": [
    "predicted_labels = svm.predict(datapoints[0])\n",
    "predicted_classes = map_label_to_class_name(predicted_labels, svm.label_to_class)\n",
    "print(f\"Ground truth: {datapoints[1]}\")\n",
    "print(f\"Prediction: {predicted_labels}\")\n",
    "print(\" RESULTS Testing success ratio: \", result['testing_accuracy'])"
   ]
  },
  {
   "cell_type": "markdown",
   "metadata": {},
   "source": [
    "### ZFeatureMap ansatz"
   ]
  },
  {
   "cell_type": "code",
   "execution_count": 143,
   "metadata": {
    "scrolled": true
   },
   "outputs": [
    {
     "name": "stdout",
     "output_type": "stream",
     "text": [
      "     ┌───┐┌──────────────┐┌───┐┌──────────────┐\n",
      "q_0: ┤ H ├┤ U1(2.0*x[0]) ├┤ H ├┤ U1(2.0*x[0]) ├\n",
      "     ├───┤├──────────────┤├───┤├──────────────┤\n",
      "q_1: ┤ H ├┤ U1(2.0*x[1]) ├┤ H ├┤ U1(2.0*x[1]) ├\n",
      "     ├───┤├──────────────┤├───┤├──────────────┤\n",
      "q_2: ┤ H ├┤ U1(2.0*x[2]) ├┤ H ├┤ U1(2.0*x[2]) ├\n",
      "     ├───┤├──────────────┤├───┤├──────────────┤\n",
      "q_3: ┤ H ├┤ U1(2.0*x[3]) ├┤ H ├┤ U1(2.0*x[3]) ├\n",
      "     ├───┤├──────────────┤├───┤├──────────────┤\n",
      "q_4: ┤ H ├┤ U1(2.0*x[4]) ├┤ H ├┤ U1(2.0*x[4]) ├\n",
      "     └───┘└──────────────┘└───┘└──────────────┘\n"
     ]
    }
   ],
   "source": [
    "backend = Aer.get_backend('qasm_simulator')\n",
    "feature_map = ZFeatureMap(dim, reps=2)\n",
    "print(feature_map)"
   ]
  },
  {
   "cell_type": "code",
   "execution_count": 144,
   "metadata": {},
   "outputs": [],
   "source": [
    "svm = QSVM(feature_map, training_input, test_input, None)\n",
    "quantum_instance = QuantumInstance(backend, shots=10000)\n",
    "result = svm.run(quantum_instance)"
   ]
  },
  {
   "cell_type": "code",
   "execution_count": 145,
   "metadata": {
    "scrolled": false
   },
   "outputs": [
    {
     "name": "stdout",
     "output_type": "stream",
     "text": [
      "Kernel matrix during training\n"
     ]
    },
    {
     "data": {
      "image/png": "[encoded data removed]",
      "text/plain": [
       "<Figure size 432x288 with 1 Axes>"
      ]
     },
     "metadata": {
      "needs_background": "light"
     },
     "output_type": "display_data"
    }
   ],
   "source": [
    "print(\"Kernel matrix during training\")\n",
    "kernel_mat = result['kernel_matrix_training']\n",
    "img = plt.imshow(np.asmatrix(kernel_mat), origin='upper', interpolation='nearest', cmap='bone_r')\n",
    "plt.show()"
   ]
  },
  {
   "cell_type": "code",
   "execution_count": 146,
   "metadata": {},
   "outputs": [
    {
     "name": "stdout",
     "output_type": "stream",
     "text": [
      "Ground truth: [0 0 0 0 0 0 0 0 0 0 1 1 1 1 1 1 1 1 1 1]\n",
      "Prediction: [1 0 0 0 0 0 0 0 0 0 1 1 1 1 1 1 1 1 1 1]\n",
      "RESULTS Testing success ratio:  0.9\n"
     ]
    }
   ],
   "source": [
    "predicted_labels = svm.predict(datapoints[0])\n",
    "predicted_classes = map_label_to_class_name(predicted_labels, svm.label_to_class)\n",
    "print(f\"Ground truth: {datapoints[1]}\")\n",
    "print(f\"Prediction: {predicted_labels}\")\n",
    "print(\"RESULTS Testing success ratio: \", result['testing_accuracy'])"
   ]
  },
  {
   "cell_type": "markdown",
   "metadata": {},
   "source": [
    "### PauliFeatureMap ansatz"
   ]
  },
  {
   "cell_type": "code",
   "execution_count": 151,
   "metadata": {},
   "outputs": [
    {
     "name": "stdout",
     "output_type": "stream",
     "text": [
      "     ┌───┐┌──────────────┐                                                »\n",
      "q_0: ┤ H ├┤ U1(2.0*x[0]) ├──■─────────────────────────────────────■────■──»\n",
      "     ├───┤├──────────────┤┌─┴─┐┌───────────────────────────────┐┌─┴─┐  │  »\n",
      "q_1: ┤ H ├┤ U1(2.0*x[1]) ├┤ X ├┤ U1(2.0*(π - x[0])*(π - x[1])) ├┤ X ├──┼──»\n",
      "     ├───┤├──────────────┤└───┘└───────────────────────────────┘└───┘┌─┴─┐»\n",
      "q_2: ┤ H ├┤ U1(2.0*x[2]) ├───────────────────────────────────────────┤ X ├»\n",
      "     ├───┤├──────────────┤                                           └───┘»\n",
      "q_3: ┤ H ├┤ U1(2.0*x[3]) ├────────────────────────────────────────────────»\n",
      "     ├───┤├──────────────┤                                                »\n",
      "q_4: ┤ H ├┤ U1(2.0*x[4]) ├────────────────────────────────────────────────»\n",
      "     └───┘└──────────────┘                                                »\n",
      "«                                                     »\n",
      "«q_0: ───────────────────────────────────■─────────■──»\n",
      "«                                        │         │  »\n",
      "«q_1: ───────────────────────────────────┼────■────┼──»\n",
      "«     ┌───────────────────────────────┐┌─┴─┐┌─┴─┐  │  »\n",
      "«q_2: ┤ U1(2.0*(π - x[0])*(π - x[2])) ├┤ X ├┤ X ├──┼──»\n",
      "«     └───────────────────────────────┘└───┘└───┘┌─┴─┐»\n",
      "«q_3: ───────────────────────────────────────────┤ X ├»\n",
      "«                                                └───┘»\n",
      "«q_4: ────────────────────────────────────────────────»\n",
      "«                                                     »\n",
      "«                                                          »\n",
      "«q_0: ────────────────────────────────────────■─────────■──»\n",
      "«                                             │         │  »\n",
      "«q_1: ───────────────────────────────────■────┼────■────┼──»\n",
      "«     ┌───────────────────────────────┐┌─┴─┐  │    │    │  »\n",
      "«q_2: ┤ U1(2.0*(π - x[1])*(π - x[2])) ├┤ X ├──┼────┼────┼──»\n",
      "«     ├───────────────────────────────┤└───┘┌─┴─┐┌─┴─┐  │  »\n",
      "«q_3: ┤ U1(2.0*(π - x[0])*(π - x[3])) ├─────┤ X ├┤ X ├──┼──»\n",
      "«     └───────────────────────────────┘     └───┘└───┘┌─┴─┐»\n",
      "«q_4: ────────────────────────────────────────────────┤ X ├»\n",
      "«                                                     └───┘»\n",
      "«                                                ┌───┐┌──────────────┐»\n",
      "«q_0: ────────────────────────────────────────■──┤ H ├┤ U1(2.0*x[0]) ├»\n",
      "«                                             │  └───┘└──────────────┘»\n",
      "«q_1: ───────────────────────────────────■────┼──────────────■────────»\n",
      "«                                        │    │              │        »\n",
      "«q_2: ───────────────────────────────────┼────┼────■─────────┼────────»\n",
      "«     ┌───────────────────────────────┐┌─┴─┐  │  ┌─┴─┐       │        »\n",
      "«q_3: ┤ U1(2.0*(π - x[1])*(π - x[3])) ├┤ X ├──┼──┤ X ├───────┼────────»\n",
      "«     ├───────────────────────────────┤└───┘┌─┴─┐└───┘     ┌─┴─┐      »\n",
      "«q_4: ┤ U1(2.0*(π - x[0])*(π - x[4])) ├─────┤ X ├──────────┤ X ├──────»\n",
      "«     └───────────────────────────────┘     └───┘          └───┘      »\n",
      "«                                                     »\n",
      "«q_0: ────────────────────────────────────────────────»\n",
      "«                                                ┌───┐»\n",
      "«q_1: ────────────────────────────────────────■──┤ H ├»\n",
      "«                                             │  └───┘»\n",
      "«q_2: ───────────────────────────────────■────┼────■──»\n",
      "«     ┌───────────────────────────────┐┌─┴─┐  │    │  »\n",
      "«q_3: ┤ U1(2.0*(π - x[2])*(π - x[3])) ├┤ X ├──┼────┼──»\n",
      "«     ├───────────────────────────────┤└───┘┌─┴─┐┌─┴─┐»\n",
      "«q_4: ┤ U1(2.0*(π - x[1])*(π - x[4])) ├─────┤ X ├┤ X ├»\n",
      "«     └───────────────────────────────┘     └───┘└───┘»\n",
      "«                                                                            »\n",
      "«q_0: ───────────────────────────────────■───────────────────────────────────»\n",
      "«              ┌──────────────┐        ┌─┴─┐┌───────────────────────────────┐»\n",
      "«q_1: ─────────┤ U1(2.0*x[1]) ├────────┤ X ├┤ U1(2.0*(π - x[0])*(π - x[1])) ├»\n",
      "«              └──────────────┘        └───┘└─────────────┬───┬─────────────┘»\n",
      "«q_2: ───────────────────────────────────■────────────────┤ H ├──────────────»\n",
      "«                                        │                └───┘              »\n",
      "«q_3: ───────────────────────────────────┼──────────────────■────────────────»\n",
      "«     ┌───────────────────────────────┐┌─┴─┐              ┌─┴─┐              »\n",
      "«q_4: ┤ U1(2.0*(π - x[2])*(π - x[4])) ├┤ X ├──────────────┤ X ├──────────────»\n",
      "«     └───────────────────────────────┘└───┘              └───┘              »\n",
      "«                                                                            »\n",
      "«q_0: ────────────────■──────────────────■───────────────────────────────────»\n",
      "«                   ┌─┴─┐                │                                   »\n",
      "«q_1: ──────────────┤ X ├────────────────┼───────────────────────────────────»\n",
      "«              ┌────┴───┴─────┐        ┌─┴─┐┌───────────────────────────────┐»\n",
      "«q_2: ─────────┤ U1(2.0*x[2]) ├────────┤ X ├┤ U1(2.0*(π - x[0])*(π - x[2])) ├»\n",
      "«              └──────────────┘        └───┘└─────────────┬───┬─────────────┘»\n",
      "«q_3: ───────────────────────────────────■────────────────┤ H ├──────────────»\n",
      "«     ┌───────────────────────────────┐┌─┴─┐              ├───┤              »\n",
      "«q_4: ┤ U1(2.0*(π - x[3])*(π - x[4])) ├┤ X ├──────────────┤ H ├──────────────»\n",
      "«     └───────────────────────────────┘└───┘              └───┘              »\n",
      "«                                                                          »\n",
      "«q_0: ───────■───────────────■──────────────────────────────────────────■──»\n",
      "«            │               │                                          │  »\n",
      "«q_1: ───────┼──────────■────┼─────────────────────────────────────■────┼──»\n",
      "«          ┌─┴─┐      ┌─┴─┐  │  ┌───────────────────────────────┐┌─┴─┐  │  »\n",
      "«q_2: ─────┤ X ├──────┤ X ├──┼──┤ U1(2.0*(π - x[1])*(π - x[2])) ├┤ X ├──┼──»\n",
      "«     ┌────┴───┴─────┐└───┘┌─┴─┐├───────────────────────────────┤└───┘┌─┴─┐»\n",
      "«q_3: ┤ U1(2.0*x[3]) ├─────┤ X ├┤ U1(2.0*(π - x[0])*(π - x[3])) ├─────┤ X ├»\n",
      "«     ├──────────────┤     └───┘└───────────────────────────────┘     └───┘»\n",
      "«q_4: ┤ U1(2.0*x[4]) ├─────────────────────────────────────────────────────»\n",
      "«     └──────────────┘                                                     »\n",
      "«                                                                    »\n",
      "«q_0: ───────■──────────────────────────────────────────■────────────»\n",
      "«            │                                          │            »\n",
      "«q_1: ──■────┼─────────────────────────────────────■────┼─────────■──»\n",
      "«       │    │                                     │    │         │  »\n",
      "«q_2: ──┼────┼─────────────────────────────────────┼────┼────■────┼──»\n",
      "«     ┌─┴─┐  │  ┌───────────────────────────────┐┌─┴─┐  │  ┌─┴─┐  │  »\n",
      "«q_3: ┤ X ├──┼──┤ U1(2.0*(π - x[1])*(π - x[3])) ├┤ X ├──┼──┤ X ├──┼──»\n",
      "«     └───┘┌─┴─┐├───────────────────────────────┤└───┘┌─┴─┐└───┘┌─┴─┐»\n",
      "«q_4: ─────┤ X ├┤ U1(2.0*(π - x[0])*(π - x[4])) ├─────┤ X ├─────┤ X ├»\n",
      "«          └───┘└───────────────────────────────┘     └───┘     └───┘»\n",
      "«                                                     »\n",
      "«q_0: ────────────────────────────────────────────────»\n",
      "«                                                     »\n",
      "«q_1: ────────────────────────────────────────■───────»\n",
      "«                                             │       »\n",
      "«q_2: ───────────────────────────────────■────┼────■──»\n",
      "«     ┌───────────────────────────────┐┌─┴─┐  │    │  »\n",
      "«q_3: ┤ U1(2.0*(π - x[2])*(π - x[3])) ├┤ X ├──┼────┼──»\n",
      "«     ├───────────────────────────────┤└───┘┌─┴─┐┌─┴─┐»\n",
      "«q_4: ┤ U1(2.0*(π - x[1])*(π - x[4])) ├─────┤ X ├┤ X ├»\n",
      "«     └───────────────────────────────┘     └───┘└───┘»\n",
      "«                                                »\n",
      "«q_0: ───────────────────────────────────────────»\n",
      "«                                                »\n",
      "«q_1: ───────────────────────────────────────────»\n",
      "«                                                »\n",
      "«q_2: ───────────────────────────────────■───────»\n",
      "«                                        │       »\n",
      "«q_3: ───────────────────────────────────┼────■──»\n",
      "«     ┌───────────────────────────────┐┌─┴─┐┌─┴─┐»\n",
      "«q_4: ┤ U1(2.0*(π - x[2])*(π - x[4])) ├┤ X ├┤ X ├»\n",
      "«     └───────────────────────────────┘└───┘└───┘»\n",
      "«                                           \n",
      "«q_0: ──────────────────────────────────────\n",
      "«                                           \n",
      "«q_1: ──────────────────────────────────────\n",
      "«                                           \n",
      "«q_2: ──────────────────────────────────────\n",
      "«                                           \n",
      "«q_3: ───────────────────────────────────■──\n",
      "«     ┌───────────────────────────────┐┌─┴─┐\n",
      "«q_4: ┤ U1(2.0*(π - x[3])*(π - x[4])) ├┤ X ├\n",
      "«     └───────────────────────────────┘└───┘\n"
     ]
    }
   ],
   "source": [
    "backend = Aer.get_backend('qasm_simulator')\n",
    "feature_map = PauliFeatureMap(dim, reps=2)\n",
    "print(feature_map)"
   ]
  },
  {
   "cell_type": "code",
   "execution_count": 152,
   "metadata": {},
   "outputs": [],
   "source": [
    "svm = QSVM(feature_map, training_input, test_input, None)\n",
    "quantum_instance = QuantumInstance(backend, shots=10000)\n",
    "result = svm.run(quantum_instance)"
   ]
  },
  {
   "cell_type": "code",
   "execution_count": 153,
   "metadata": {
    "scrolled": true
   },
   "outputs": [
    {
     "name": "stdout",
     "output_type": "stream",
     "text": [
      "Kernel matrix during training\n"
     ]
    },
    {
     "data": {
      "image/png": "[encoded data removed]",
      "text/plain": [
       "<Figure size 432x288 with 1 Axes>"
      ]
     },
     "metadata": {
      "needs_background": "light"
     },
     "output_type": "display_data"
    }
   ],
   "source": [
    "print(\"Kernel matrix during training\")\n",
    "kernel_mat = result['kernel_matrix_training']\n",
    "img = plt.imshow(np.asmatrix(kernel_mat), origin='upper', interpolation='nearest', cmap='bone_r')\n",
    "plt.show()"
   ]
  },
  {
   "cell_type": "code",
   "execution_count": 154,
   "metadata": {
    "scrolled": true
   },
   "outputs": [
    {
     "name": "stdout",
     "output_type": "stream",
     "text": [
      "Ground truth: [0 0 0 0 0 0 0 0 0 0 1 1 1 1 1 1 1 1 1 1]\n",
      "Prediction: [1 0 0 0 0 0 0 0 0 0 1 1 1 1 1 1 1 1 1 1]\n",
      "RESULTS Testing success ratio:  0.95\n"
     ]
    }
   ],
   "source": [
    "predicted_labels = svm.predict(datapoints[0])\n",
    "predicted_classes = map_label_to_class_name(predicted_labels, svm.label_to_class)\n",
    "print(f\"Ground truth: {datapoints[1]}\")\n",
    "print(f\"Prediction: {predicted_labels}\")\n",
    "print(\"RESULTS Testing success ratio: \", result['testing_accuracy'])"
   ]
  },
  {
   "cell_type": "markdown",
   "metadata": {},
   "source": [
    "## Results"
   ]
  },
  {
   "cell_type": "markdown",
   "metadata": {},
   "source": [
    "![](images/QSVM%20breast%20cancer%20data%20set%20diff%20outcomes.jpg)"
   ]
  }
 ],
 "metadata": {
  "kernelspec": {
   "display_name": "qiskit",
   "language": "python",
   "name": "qiskit"
  },
  "language_info": {
   "codemirror_mode": {
    "name": "ipython",
    "version": 3
   },
   "file_extension": ".py",
   "mimetype": "text/x-python",
   "name": "python",
   "nbconvert_exporter": "python",
   "pygments_lexer": "ipython3",
   "version": "3.8.3"
  }
 },
 "nbformat": 4,
 "nbformat_minor": 4
}
